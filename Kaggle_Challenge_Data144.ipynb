{
  "nbformat": 4,
  "nbformat_minor": 0,
  "metadata": {
    "colab": {
      "name": "Kaggle_Challenge_Data144",
      "provenance": [],
      "collapsed_sections": [],
      "machine_shape": "hm"
    },
    "kernelspec": {
      "name": "python3",
      "display_name": "Python 3"
    }
  },
  "cells": [
    {
      "cell_type": "code",
      "metadata": {
        "id": "YlVv0pKAxWnx",
        "colab_type": "code",
        "outputId": "fe43db91-3b85-41d8-c2cc-5b91c9291773",
        "colab": {
          "base_uri": "https://localhost:8080/",
          "height": 34
        }
      },
      "source": [
        "import pandas as pd\n",
        "import numpy as np\n",
        "import matplotlib.pyplot as plt\n",
        "from google.colab import drive\n",
        "drive.mount('/content/gdrive')\n",
        "folder_path = '/content/gdrive/My Drive/Data 144 Kaggle Challenge/'"
      ],
      "execution_count": 0,
      "outputs": [
        {
          "output_type": "stream",
          "text": [
            "Drive already mounted at /content/gdrive; to attempt to forcibly remount, call drive.mount(\"/content/gdrive\", force_remount=True).\n"
          ],
          "name": "stdout"
        }
      ]
    },
    {
      "cell_type": "code",
      "metadata": {
        "id": "tCejWK0rxgvM",
        "colab_type": "code",
        "colab": {}
      },
      "source": [
        "train = pd.read_csv(folder_path+'yelp_train.csv')\n",
        "test = pd.read_csv(folder_path+'yelp_test.csv')\n",
        "\n",
        "sample = pd.read_csv(folder_path+'yelp_sample.csv')"
      ],
      "execution_count": 0,
      "outputs": []
    },
    {
      "cell_type": "code",
      "metadata": {
        "id": "Ahkf5lLf0kFv",
        "colab_type": "code",
        "outputId": "ca5d743e-6b5b-40a9-e6de-441f2270181a",
        "colab": {
          "base_uri": "https://localhost:8080/",
          "height": 136
        }
      },
      "source": [
        "train.columns"
      ],
      "execution_count": 0,
      "outputs": [
        {
          "output_type": "execute_result",
          "data": {
            "text/plain": [
              "Index(['review_id', 'business_id', 'user_id', 'date', 'cool', 'funny',\n",
              "       'useful', 'text', 'user_average_stars', 'user_elite',\n",
              "       'user_review_count', 'user_yelping_since', 'business_categories',\n",
              "       'business_city', 'business_latitude', 'business_longitude',\n",
              "       'business_review_count', 'business_average_stars', 'business_state',\n",
              "       'is_good_rating'],\n",
              "      dtype='object')"
            ]
          },
          "metadata": {
            "tags": []
          },
          "execution_count": 9
        }
      ]
    },
    {
      "cell_type": "code",
      "metadata": {
        "id": "RLKsenig2LxK",
        "colab_type": "code",
        "outputId": "eac761a0-b574-4dd2-ef4b-6781f32608be",
        "colab": {
          "base_uri": "https://localhost:8080/",
          "height": 119
        }
      },
      "source": [
        "train.is_good_rating.head()"
      ],
      "execution_count": 0,
      "outputs": [
        {
          "output_type": "execute_result",
          "data": {
            "text/plain": [
              "0    0\n",
              "1    0\n",
              "2    1\n",
              "3    0\n",
              "4    0\n",
              "Name: is_good_rating, dtype: int64"
            ]
          },
          "metadata": {
            "tags": []
          },
          "execution_count": 40
        }
      ]
    },
    {
      "cell_type": "code",
      "metadata": {
        "id": "5Dpq1vQM2OM4",
        "colab_type": "code",
        "outputId": "a513773c-3369-4f6a-ff5b-9ee250ba7505",
        "colab": {
          "base_uri": "https://localhost:8080/",
          "height": 119
        }
      },
      "source": [
        "train.text.head()"
      ],
      "execution_count": 0,
      "outputs": [
        {
          "output_type": "execute_result",
          "data": {
            "text/plain": [
              "0    Pool tables, darts, and other neighborhood bar...\n",
              "1    This place was alright. However, their classic...\n",
              "2    First time at Pieology Pizzeria and I was impr...\n",
              "3    Its a good facility with lots of equipment and...\n",
              "4    Very very disappointed! My shawarma chicken wa...\n",
              "Name: text, dtype: object"
            ]
          },
          "metadata": {
            "tags": []
          },
          "execution_count": 41
        }
      ]
    },
    {
      "cell_type": "code",
      "metadata": {
        "id": "AE_llpO32Q7u",
        "colab_type": "code",
        "outputId": "eb98abc2-7152-47a8-b518-27dd501196f3",
        "colab": {
          "base_uri": "https://localhost:8080/",
          "height": 68
        }
      },
      "source": [
        "train.is_good_rating.value_counts()"
      ],
      "execution_count": 0,
      "outputs": [
        {
          "output_type": "execute_result",
          "data": {
            "text/plain": [
              "1    159858\n",
              "0     80142\n",
              "Name: is_good_rating, dtype: int64"
            ]
          },
          "metadata": {
            "tags": []
          },
          "execution_count": 42
        }
      ]
    },
    {
      "cell_type": "code",
      "metadata": {
        "id": "7Uk8UUsc3ObF",
        "colab_type": "code",
        "outputId": "6c246a01-b141-4cc7-d698-ca97b3a83867",
        "colab": {
          "base_uri": "https://localhost:8080/",
          "height": 1000
        }
      },
      "source": [
        "train.business_categories"
      ],
      "execution_count": 0,
      "outputs": [
        {
          "output_type": "execute_result",
          "data": {
            "text/plain": [
              "0         Restaurants, Sports Bars, Bars, American (Trad...\n",
              "1                                Beauty & Spas, Nail Salons\n",
              "2                                        Pizza, Restaurants\n",
              "3         Active Life, Fitness & Instruction, Trainers, ...\n",
              "4                                Mediterranean, Restaurants\n",
              "5                            Optometrists, Health & Medical\n",
              "6         Hotels, Resorts, Casinos, Event Planning & Ser...\n",
              "7         Breakfast & Brunch, Diners, American (New), Re...\n",
              "8                              Pest Control, Local Services\n",
              "9         Automotive, Auto Parts & Supplies, Tires, Whee...\n",
              "10                              Cuban, Restaurants, Mexican\n",
              "11                          Food, Ice Cream & Frozen Yogurt\n",
              "12        American (Traditional), Restaurants, Beer Bar,...\n",
              "13        Bars, Pubs, Food, Cocktail Bars, Nightlife, Ci...\n",
              "14        Desserts, American (New), Sandwiches, American...\n",
              "15                                     Mexican, Restaurants\n",
              "16        American (Traditional), American (New), Restau...\n",
              "17                                       Karaoke, Nightlife\n",
              "18                   Barbeque, Korean, Restaurants, Buffets\n",
              "19        Seafood, Restaurants, American (Traditional), ...\n",
              "20        Furniture Reupholstery, Sewing & Alterations, ...\n",
              "21        Plus Size Fashion, Fashion, Formal Wear, Shopp...\n",
              "22                               Beer, Wine & Spirits, Food\n",
              "23                                      French, Restaurants\n",
              "24        Bars, Nightlife, Sports Bars, Pubs, Restaurant...\n",
              "25        Japanese, American (New), Restaurants, Noodles...\n",
              "26               Seafood, Restaurants, Italian, Steakhouses\n",
              "27                                     Mexican, Restaurants\n",
              "28                                     Italian, Restaurants\n",
              "29                        Sushi Bars, Restaurants, Japanese\n",
              "                                ...                        \n",
              "239970                             Food Stands, Restaurants\n",
              "239971    Sandwiches, Breakfast & Brunch, Burgers, Ameri...\n",
              "239972    Threading Services, Skin Care, Reiki, Waxing, ...\n",
              "239973                      Restaurants, Burgers, Fast Food\n",
              "239974                 Restaurants, Portuguese, Food, Cafes\n",
              "239975      American (New), Restaurants, Breakfast & Brunch\n",
              "239976                         Vegan, Restaurants, Southern\n",
              "239977    Event Planning & Services, Arts & Entertainmen...\n",
              "239978    Seafood, Restaurants, Steakhouses, American (New)\n",
              "239979    Doctors, Physical Therapy, Sports Medicine, He...\n",
              "239980    Diners, Restaurants, Breakfast & Brunch, Ameri...\n",
              "239981         American (Traditional), Restaurants, Seafood\n",
              "239982    Food, Bubble Tea, Ice Cream & Frozen Yogurt, C...\n",
              "239983                                Tattoo, Beauty & Spas\n",
              "239984                    Bakeries, Food, Coffee Roasteries\n",
              "239985                       Delis, Sandwiches, Restaurants\n",
              "239986    Local Services, Recycling Center, Home Service...\n",
              "239987    Windshield Installation & Repair, Oil Change S...\n",
              "239988                                   Pizza, Restaurants\n",
              "239989    Caterers, Sandwiches, Restaurants, Food Delive...\n",
              "239990                         Indian, Buffets, Restaurants\n",
              "239991    Restaurants, Pizza, Nightlife, Beer, Wine & Sp...\n",
              "239992                   Barbeque, Restaurants, Steakhouses\n",
              "239993                                   Restaurants, Cafes\n",
              "239994                              Vietnamese, Restaurants\n",
              "239995                           Mediterranean, Restaurants\n",
              "239996    Sports Bars, Restaurants, American (Traditiona...\n",
              "239997    Chicken Shop, American (New), Restaurants, Chi...\n",
              "239998    Caterers, Sandwiches, Restaurants, Food Delive...\n",
              "239999                          Health & Medical, Hospitals\n",
              "Name: business_categories, Length: 240000, dtype: object"
            ]
          },
          "metadata": {
            "tags": []
          },
          "execution_count": 43
        }
      ]
    },
    {
      "cell_type": "code",
      "metadata": {
        "id": "NVx6eGnj3TIj",
        "colab_type": "code",
        "outputId": "da111248-d4ba-4cbd-e6ad-bc5ce3c04906",
        "colab": {
          "base_uri": "https://localhost:8080/",
          "height": 1000
        }
      },
      "source": [
        "train.groupby('business_categories').size()"
      ],
      "execution_count": 0,
      "outputs": [
        {
          "output_type": "execute_result",
          "data": {
            "text/plain": [
              "business_categories\n",
              "3D Printing, Computers, Shopping, Printing Services, Local Services, Electronics                                                                                          1\n",
              "3D Printing, Printing Services, Local Services                                                                                                                            1\n",
              "ATV Rentals/Tours, Bike Rentals, Bikes, Active Life, Hotels & Travel, Parks, Sporting Goods, Tours, Shopping, Recreation Centers                                          1\n",
              "ATV Rentals/Tours, Tours, Active Life, Hotels & Travel                                                                                                                    1\n",
              "Acai Bowls, Ice Cream & Frozen Yogurt, Juice Bars & Smoothies, Gluten-Free, Food, Restaurants                                                                             2\n",
              "Acai Bowls, Juice Bars & Smoothies, Ice Cream & Frozen Yogurt, Food                                                                                                       1\n",
              "Acai Bowls, Macarons, Specialty Food, Shaved Ice, Ice Cream & Frozen Yogurt, Juice Bars & Smoothies, Food, Desserts                                                      10\n",
              "Acai Bowls, Poke, Juice Bars & Smoothies, Gluten-Free, Food, Vegan, Restaurants                                                                                           5\n",
              "Accessories, Arts & Crafts, Fashion, Art Supplies, Shopping, Jewelry, Knitting Supplies                                                                                   2\n",
              "Accessories, Children's Clothing, Shoe Stores, Fashion, Shopping                                                                                                          1\n",
              "Accessories, Children's Clothing, Shopping, Women's Clothing, Department Stores, Fashion, Men's Clothing                                                                  2\n",
              "Accessories, Department Stores, Shopping, Fashion, Women's Clothing, Men's Clothing                                                                                       1\n",
              "Accessories, Discount Store, Fashion, Shopping                                                                                                                            2\n",
              "Accessories, Fashion, Jewelry, Shopping, Shoe Stores                                                                                                                      1\n",
              "Accessories, Fashion, Leather Goods, Shopping                                                                                                                             1\n",
              "Accessories, Fashion, Men's Clothing, Women's Clothing, Department Stores, Shopping                                                                                       3\n",
              "Accessories, Fashion, Shoe Stores, Women's Clothing, Shopping                                                                                                             1\n",
              "Accessories, Fashion, Shopping                                                                                                                                            6\n",
              "Accessories, Fashion, Shopping, Bridal                                                                                                                                    1\n",
              "Accessories, Fashion, Shopping, Jewelry                                                                                                                                   1\n",
              "Accessories, Fashion, Shopping, Men's Clothing, Women's Clothing                                                                                                          2\n",
              "Accessories, Fashion, Shopping, Outlet Stores                                                                                                                             1\n",
              "Accessories, Fashion, Shopping, Personal Shopping, Horse Equipment Shops                                                                                                  1\n",
              "Accessories, Fashion, Shopping, Shoe Stores                                                                                                                               1\n",
              "Accessories, Fashion, Shopping, Women's Clothing                                                                                                                          5\n",
              "Accessories, Fashion, Shopping, Women's Clothing, Men's Clothing, Department Stores                                                                                       3\n",
              "Accessories, Fashion, Thrift Stores, Shopping                                                                                                                             2\n",
              "Accessories, Fashion, Women's Clothing, Shopping                                                                                                                          4\n",
              "Accessories, Flea Markets, Watches, Shopping, Fashion, Piercing, Local Services, Jewelry Repair, Beauty & Spas, Jewelry                                                   1\n",
              "Accessories, Formal Wear, Shoe Stores, Men's Clothing, Fashion, Bridal, Shopping                                                                                          1\n",
              "                                                                                                                                                                         ..\n",
              "Yoga, Fitness & Instruction, Weight Loss Centers, Dance Studios, Health & Medical, Active Life                                                                            2\n",
              "Yoga, Gyms, Active Life, Boxing, Dance Studios, Fitness & Instruction                                                                                                     2\n",
              "Yoga, Gyms, Fitness & Instruction, Trainers, Active Life                                                                                                                  2\n",
              "Yoga, Gyms, Sports Clubs, Trainers, Active Life, Fitness & Instruction                                                                                                    3\n",
              "Yoga, Health & Medical, Active Life, Fitness & Instruction, Physical Therapy, Trainers                                                                                    1\n",
              "Yoga, Health & Medical, Acupuncture, Fitness & Instruction, Chiropractors, Massage Therapy, Active Life, Massage, Beauty & Spas                                           1\n",
              "Yoga, Health & Medical, Obstetricians & Gynecologists, Fitness & Instruction, Active Life, Doctors                                                                        1\n",
              "Yoga, Lakes, Paddleboarding, Fitness & Instruction, Active Life, Rafting/Kayaking                                                                                         4\n",
              "Yoga, Meditation Centers, Fitness & Instruction, Active Life                                                                                                              2\n",
              "Yoga, Shopping, Fashion, Active Life, Sports Wear, Fitness & Instruction, Sporting Goods, Gyms                                                                            2\n",
              "Yoga, Skin Care, Nutritionists, Health & Medical, Active Life, Fitness & Instruction, Massage Therapy, Aerial Fitness, Beauty & Spas                                      3\n",
              "Yoga, Specialty Schools, Education, Surf Schools, Active Life, Sports Clubs, Fitness & Instruction, Boating, Beaches                                                      1\n",
              "Yoga, Specialty Schools, Fitness & Instruction, Active Life, Education                                                                                                    3\n",
              "Yoga, Specialty Schools, Fitness & Instruction, Education, Active Life                                                                                                    1\n",
              "Yoga, Sports Clubs, Active Life, Gyms, Trainers, Fitness & Instruction                                                                                                    1\n",
              "Yoga, Sports Clubs, Fitness & Instruction, Active Life, Trainers, Gyms                                                                                                    1\n",
              "Yoga, Sports Clubs, Fitness & Instruction, Trainers, Active Life, Gyms                                                                                                    1\n",
              "Yoga, Tai Chi, Education, Fitness & Instruction, Active Life, Adult Education                                                                                             1\n",
              "Yoga, Traditional Chinese Medicine, Massage, Tai Chi, Trainers, Weight Loss Centers, Active Life, Acupuncture, Fitness & Instruction, Health & Medical, Beauty & Spas     2\n",
              "Yoga, Trainers, Active Life, Fitness & Instruction, Gyms, Sports Clubs                                                                                                    1\n",
              "Yoga, Trainers, Gyms, Active Life, Fitness & Instruction                                                                                                                  1\n",
              "Yoga, Trainers, Sports Clubs, Fitness & Instruction, Active Life, Gyms                                                                                                    5\n",
              "Ziplining, Active Life, Amusement Parks                                                                                                                                   8\n",
              "Ziplining, Active Life, Kids Activities, Challenge Courses, Party & Event Planning, Event Planning & Services, Parks                                                      2\n",
              "Zoos, Active Life                                                                                                                                                        30\n",
              "Zoos, Active Life, Local Flavor                                                                                                                                           4\n",
              "Zoos, Event Planning & Services, Food, Active Life, Hotels & Travel, Hotels, Beer, Wine & Spirits                                                                         4\n",
              "Zoos, Leisure Centers, Active Life, Recreation Centers                                                                                                                    1\n",
              "Zoos, Local Flavor, Active Life                                                                                                                                           5\n",
              "Zoos, Parks, Active Life                                                                                                                                                  2\n",
              "Length: 39818, dtype: int64"
            ]
          },
          "metadata": {
            "tags": []
          },
          "execution_count": 44
        }
      ]
    },
    {
      "cell_type": "code",
      "metadata": {
        "id": "QqoAyS_D3blH",
        "colab_type": "code",
        "colab": {}
      },
      "source": [
        "train['bizcategory1'] = train.business_categories.apply(lambda x: x.split(', ')[0] if type(x)==str else '---')\n",
        "train['bizcategory2'] = ['---' if type(i)!=str else '---' if len(i.split(', '))==1 else i.split(', ')[1] for i in train.business_categories]\n",
        "train['top2categories'] = train['bizcategory1'].str.cat(train['bizcategory2'], sep=' ')\n",
        "top_categories = train.top2categories.value_counts()\n",
        "top_categories = [k for k,v in top_categories.iteritems() if v > 100]"
      ],
      "execution_count": 0,
      "outputs": []
    },
    {
      "cell_type": "code",
      "metadata": {
        "id": "DDlKmuEP0lkC",
        "colab_type": "code",
        "outputId": "35a85ea1-14b1-4457-b4ee-0bb9602a01a4",
        "colab": {
          "base_uri": "https://localhost:8080/",
          "height": 34
        }
      },
      "source": [
        "len(train.top2categories.unique())"
      ],
      "execution_count": 0,
      "outputs": [
        {
          "output_type": "execute_result",
          "data": {
            "text/plain": [
              "11028"
            ]
          },
          "metadata": {
            "tags": []
          },
          "execution_count": 100
        }
      ]
    },
    {
      "cell_type": "code",
      "metadata": {
        "id": "AR-NFpEE06aa",
        "colab_type": "code",
        "outputId": "73614579-23dc-478f-ec1c-ffce8dec470f",
        "colab": {
          "base_uri": "https://localhost:8080/",
          "height": 34
        }
      },
      "source": [
        "len(train.bizcategory1.unique())"
      ],
      "execution_count": 0,
      "outputs": [
        {
          "output_type": "execute_result",
          "data": {
            "text/plain": [
              "1008"
            ]
          },
          "metadata": {
            "tags": []
          },
          "execution_count": 101
        }
      ]
    },
    {
      "cell_type": "code",
      "metadata": {
        "id": "vd1uq9sY1IDL",
        "colab_type": "code",
        "outputId": "f1a82b95-a731-4155-e7da-a71d73f70fee",
        "colab": {
          "base_uri": "https://localhost:8080/",
          "height": 34
        }
      },
      "source": [
        "len(train.bizcategory2.unique())"
      ],
      "execution_count": 0,
      "outputs": [
        {
          "output_type": "execute_result",
          "data": {
            "text/plain": [
              "1016"
            ]
          },
          "metadata": {
            "tags": []
          },
          "execution_count": 102
        }
      ]
    },
    {
      "cell_type": "code",
      "metadata": {
        "id": "HFiAd87pCRoO",
        "colab_type": "code",
        "outputId": "932d3aba-c598-4c14-c02e-36159a71892d",
        "colab": {
          "base_uri": "https://localhost:8080/",
          "height": 74
        }
      },
      "source": [
        "print(top_categories)"
      ],
      "execution_count": 0,
      "outputs": [
        {
          "output_type": "stream",
          "text": [
            "['Mexican Restaurants', 'Restaurants Mexican', 'Italian Restaurants', 'American (New) Restaurants', 'Pizza Restaurants', 'Restaurants Pizza', 'Restaurants Italian', 'Chinese Restaurants', 'Restaurants Chinese', 'Restaurants American (New)', 'Restaurants American (Traditional)', 'Breakfast & Brunch Restaurants', 'Restaurants Breakfast & Brunch', 'American (Traditional) Restaurants', 'Bars Nightlife', 'Nightlife Bars', 'Restaurants Burgers', 'Coffee & Tea Food', 'Food Coffee & Tea', 'Restaurants Food', 'Japanese Restaurants', 'Restaurants Japanese', 'Restaurants Bars', 'Restaurants Nightlife', 'Restaurants Sandwiches', 'Restaurants Thai', 'Sandwiches Restaurants', 'Restaurants Sushi Bars', 'Burgers Restaurants', 'Steakhouses Restaurants', 'Sushi Bars Restaurants', 'Food Restaurants', 'Restaurants Steakhouses', 'Nail Salons Beauty & Spas', 'Thai Restaurants', 'Beauty & Spas Nail Salons', 'Restaurants Seafood', 'Bars Restaurants', 'Restaurants Vietnamese', 'Nightlife Restaurants', 'Hotels Event Planning & Services', 'Seafood Restaurants', 'Restaurants Fast Food', 'Buffets Restaurants', 'Fast Food Restaurants', 'Food Ice Cream & Frozen Yogurt', 'Ice Cream & Frozen Yogurt Food', 'Beauty & Spas Hair Salons', 'Vietnamese Restaurants', 'Sushi Bars Japanese', 'Arts & Entertainment Performing Arts', 'Asian Fusion Restaurants', 'Restaurants Barbeque', 'Beer Wine & Spirits', 'Food Bakeries', 'Hair Salons Beauty & Spas', 'Bakeries Food', 'Japanese Sushi Bars', 'Automotive Auto Repair', 'Restaurants Indian', 'Barbeque Restaurants', 'Mediterranean Restaurants', 'Indian Restaurants', 'American (Traditional) Burgers', 'Restaurants Asian Fusion', 'Auto Repair Automotive', 'Salad Restaurants', 'Restaurants Diners', 'Pizza Italian', 'Food Desserts', 'Korean Restaurants', 'Restaurants Korean', 'Performing Arts Arts & Entertainment', 'Restaurants Mediterranean', 'Restaurants Salad', 'Restaurants Cafes', 'Event Planning & Services Hotels & Travel', 'Hotels & Travel Event Planning & Services', 'American (Traditional) Breakfast & Brunch', 'Hotels Hotels & Travel', 'Hotels & Travel Airports', 'Bars American (Traditional)', 'American (New) Bars', 'French Restaurants', 'Cafes Restaurants', 'Hotels & Travel Hotels', 'Event Planning & Services Arts & Entertainment', 'Food Grocery', 'Italian Pizza', 'Arts & Entertainment Cinema', 'Desserts Food', 'Grocery Food', 'Vegetarian Restaurants', 'Restaurants Buffets', 'Automotive Car Dealers', 'Car Rental Hotels & Travel', 'Event Planning & Services Hotels', 'Hotels Casinos', 'Chicken Wings Restaurants', 'Breakfast & Brunch American (New)', 'Nightlife Dance Clubs', 'Restaurants French', 'Diners Restaurants', 'French Steakhouses', 'Hotels & Travel Car Rental', 'Restaurants Greek', 'Casinos Hotels', 'Fashion Shopping', 'Car Dealers Automotive', 'Sandwiches Buffets', 'Doctors Health & Medical', 'Beauty & Spas Barbers', 'Buffets Breakfast & Brunch', 'American (Traditional) Bars', 'Barbers Beauty & Spas', 'Veterinarians Pets', 'Specialty Food Food', 'Cinema Arts & Entertainment', 'Food Breakfast & Brunch', 'Food Beer', 'Breakfast & Brunch Food', 'Day Spas Beauty & Spas', 'Bars Lounges', 'Sandwiches Pizza', 'Coffee & Tea Restaurants', 'Health & Medical Doctors', 'Noodles Restaurants', 'Hotels Arts & Entertainment', 'Restaurants Coffee & Tea', 'Event Planning & Services Venues & Event Spaces', 'Restaurants Noodles', 'Restaurants Gastropubs', 'American (New) American (Traditional)', 'Caterers Sandwiches', 'Arts & Entertainment Event Planning & Services', 'Greek Restaurants', 'Food Specialty Food', 'Nightlife American (New)', 'Restaurants Chicken Wings', 'Automotive Oil Change Stations', 'Restaurants Middle Eastern', 'Pets Veterinarians', 'Shopping Fashion', 'American (New) Nightlife', 'Restaurants Canadian (New)', 'Restaurants Arts & Entertainment', 'Asian Fusion Japanese', 'Burgers American (Traditional)', 'Restaurants Delis', 'Bars Pubs', 'Real Estate Home Services', 'Restaurants Desserts', 'Home Services Real Estate', 'American (Traditional) Nightlife', 'Auto Repair Car Dealers', 'Bakeries Restaurants', 'Bars Sports Bars', 'Food Juice Bars & Smoothies', 'Casinos Arts & Entertainment', 'American (New) Breakfast & Brunch', 'Skin Care Beauty & Spas', 'Restaurants Vegetarian', 'Restaurants Wine Bars', 'Breakfast & Brunch American (Traditional)', 'Arts & Entertainment Hotels', 'Asian Fusion Chinese', 'Desserts Restaurants', 'Burgers Fast Food', 'Heating & Air Conditioning/HVAC Home Services', 'Shopping Centers Shopping', 'Pubs Bars', 'Middle Eastern Restaurants', 'American (Traditional) Seafood', 'Fast Food Burgers', 'Beauty & Spas Day Spas', 'Restaurants Caribbean', 'Nightlife American (Traditional)', 'American (New) Sandwiches', 'Juice Bars & Smoothies Food', 'Canadian (New) Restaurants', 'Gastropubs Restaurants', 'Caterers Event Planning & Services', 'Event Planning & Services Caterers', 'Casinos Event Planning & Services', 'Cafes Food', 'Automotive Auto Parts & Supplies', 'Automotive Car Wash', 'Latin American Restaurants', 'Beauty & Spas Hair Removal', 'Cajun/Creole Restaurants', 'Restaurants Latin American', 'Hotels & Travel Arts & Entertainment', 'Delis Restaurants', 'Parks Active Life', 'Donuts Food', 'Music Venues Nightlife', 'Bars Food', 'Car Wash Automotive', 'Food Sandwiches', 'Breakfast & Brunch Diners', 'Nightlife Pubs', 'New Mexican Cuisine Mexican', 'Food American (New)', 'Burgers American (New)', 'Nightlife Food', 'Hawaiian Restaurants', 'Bars Arts & Entertainment', 'Restaurants Hot Dogs', 'Shopping Home & Garden', 'Landmarks & Historical Buildings Public Services & Government', 'Breakfast & Brunch Venues & Event Spaces', 'Dentists Health & Medical', 'Nightlife Sports Bars', 'Car Dealers Thai', 'Home Services Heating & Air Conditioning/HVAC', 'Massage Beauty & Spas', 'Diners Breakfast & Brunch', 'Home Services Apartments', 'Bars American (New)', 'Active Life Fitness & Instruction', 'Books Mags', 'Museums Arts & Entertainment', 'Beauty & Spas Massage', 'Cocktail Bars Bars', 'Auto Parts & Supplies Automotive', 'Venues & Event Spaces Event Planning & Services', 'American (Traditional) American (New)', 'Pubs Nightlife', 'Vegan Vegetarian', 'Restaurants Vegan', 'Sports Bars Bars', 'Dance Clubs Nightlife', 'Resorts Hotels & Travel', 'Food Breweries', 'Home Services Movers', 'Fitness & Instruction Active Life', 'Social Clubs Arts & Entertainment', 'American (New) Burgers', 'Food Donuts', 'Restaurants Soul Food', 'Local Services Pest Control', 'Nightlife Adult Entertainment', 'Sports Bars Nightlife', 'Coffee & Tea Cafes', 'Arts & Entertainment Casinos', 'Barbeque Korean', 'Restaurants Event Planning & Services', 'Home & Garden Shopping', 'Apartments Home Services', 'Lounges Bars', 'Event Planning & Services Restaurants', 'Restaurants Soup', 'Restaurants Cocktail Bars', 'Hair Removal Beauty & Spas', 'Restaurants Gluten-Free', 'Lounges Nightlife', 'Breakfast & Brunch Coffee & Tea', 'Nightlife Wine Bars', 'Chinese Dim Sum', 'Active Life Parks', 'Apartments Real Estate', 'Mediterranean Greek', 'Food Cafes', 'Bars Mexican', 'Hotels & Travel Transportation', 'Bars Wine Bars', 'Restaurants Hawaiian', 'Mexican Fast Food', 'Beauty & Spas Skin Care', 'Pest Control Local Services', 'Restaurants Bakeries', 'Pet Services Pets', 'Sports Bars Restaurants', 'Vegan Restaurants', 'Hot Dogs Restaurants', 'Burgers Nightlife', 'Soup Restaurants', 'Fast Food Mexican', 'Restaurants Sports Bars', 'Vietnamese Chinese', 'Sandwiches Italian', 'Mexican Tacos', 'Restaurants Tex-Mex', 'Bars Breakfast & Brunch', 'Shopping Shopping Centers', 'Cocktail Bars Nightlife', 'Sandwiches Breakfast & Brunch', 'Sandwiches American (New)', 'Nightlife Mexican', 'Mediterranean Middle Eastern', 'Bars Cocktail Bars', 'Italian Nightlife', 'Steakhouses Nightlife', 'Sandwiches Delis', 'Food Ethnic Food', 'Bars Seafood', 'Sandwiches Salad', 'Restaurants Tapas/Small Plates', 'Health & Medical Dentists', 'Home Services Plumbing', 'Pets Pet Services', 'Restaurants Southern', 'Car Dealers Auto Repair', 'Sandwiches Food', 'American (New) Food', 'Transportation Hotels & Travel', 'Real Estate Apartments', 'Automotive Tires', 'Beauty & Spas Tattoo', '--- ---', 'Tattoo Beauty & Spas', 'Arts & Entertainment Museums', 'Beauty & Spas Eyelash Service', 'Hotels & Travel Casinos', 'Soul Food Restaurants', 'Southern Restaurants', 'Tex-Mex Restaurants', 'Steakhouses American (Traditional)', 'Steakhouses Seafood', 'Financial Services Banks & Credit Unions', 'Contractors Home Services', 'Breweries Food', 'Breakfast & Brunch Sandwiches', 'Auto Repair Oil Change Stations', 'Tires Automotive', 'Plumbing Home Services', 'Movers Home Services', 'Comfort Food Restaurants', 'Waxing Hair Removal', 'Chiropractors Health & Medical', 'Pizza Food', 'Wine Bars Bars', 'Desserts American (New)', 'Tex-Mex Mexican', 'Seafood Bars', 'Beauty & Spas Hotels', 'Pets Pet Stores', 'American (Traditional) Buffets', 'Cafes Breakfast & Brunch', 'Pet Stores Pets', 'Breakfast & Brunch Southern', 'Nightlife Cocktail Bars', 'Gyms Fitness & Instruction', 'Sandwiches American (Traditional)', 'Food Nightlife', 'Restaurants Cajun/Creole', 'Seafood American (New)', 'Caterers Restaurants', 'Jewelry Shopping', 'Beauty & Spas Waxing', 'Bars Barbeque', 'Food American (Traditional)', 'Nightlife Lounges', 'Middle Eastern Mediterranean', 'Specialty Food Sandwiches', 'Shopping Drugstores', 'Music Venues Arts & Entertainment', 'Restaurants Comfort Food', 'Bakeries Desserts', 'General Dentistry Health & Medical', 'Desserts Ice Cream & Frozen Yogurt', 'Mexican Nightlife', 'Caribbean Restaurants', 'Food Cocktail Bars', 'Indian Buffets', 'Tea Rooms Food', 'Stadiums & Arenas Arts & Entertainment', 'Department Stores Shopping', 'Dim Sum Chinese', 'Oil Change Stations Automotive', 'Tires Auto Repair', 'Restaurants Pubs', 'Shopping Jewelry', 'Gyms Active Life', 'Pet Groomers Pet Services', 'Pet Groomers Pets', 'Vegetarian Nightlife', 'Drugstores Shopping', 'Restaurants Ramen', 'Vegan Pizza', 'Delis Sandwiches', 'Vegetarian Vegan', 'Casinos Hotels & Travel', 'Restaurants Creperies', 'Department Stores Fashion', 'Cocktail Bars Restaurants', 'Arts & Entertainment Nightlife', 'Gluten-Free Restaurants', 'Greek Mediterranean', 'Beauty & Spas Shopping', 'Health & Medical Medical Centers', 'Hair Salons Nail Salons', 'Waxing Beauty & Spas', 'Steakhouses American (New)', 'Tanning Beauty & Spas', 'Filipino Restaurants', \"Women's Clothing Shopping\", 'Nail Salons Day Spas', 'Banks & Credit Unions Financial Services']\n"
          ],
          "name": "stdout"
        }
      ]
    },
    {
      "cell_type": "code",
      "metadata": {
        "id": "rYL-khhQC8_Z",
        "colab_type": "code",
        "outputId": "8793c165-42f4-4f71-f159-a2308768f31f",
        "colab": {
          "base_uri": "https://localhost:8080/",
          "height": 34
        }
      },
      "source": [
        "print(len(top_categories))"
      ],
      "execution_count": 0,
      "outputs": [
        {
          "output_type": "stream",
          "text": [
            "399\n"
          ],
          "name": "stdout"
        }
      ]
    },
    {
      "cell_type": "code",
      "metadata": {
        "id": "gDyE75vQDb9f",
        "colab_type": "code",
        "outputId": "5439adbf-3218-4a54-d534-bf67d21ed9d0",
        "colab": {
          "base_uri": "https://localhost:8080/",
          "height": 119
        }
      },
      "source": [
        "# print(train.business_latitude.str.cat(train.business_longitude, sep=' '))\n",
        "train.business_latitude.head()"
      ],
      "execution_count": 0,
      "outputs": [
        {
          "output_type": "execute_result",
          "data": {
            "text/plain": [
              "0    33.336050\n",
              "1    35.058040\n",
              "2    36.114884\n",
              "3    36.025332\n",
              "4    36.005901\n",
              "Name: business_latitude, dtype: float64"
            ]
          },
          "metadata": {
            "tags": []
          },
          "execution_count": 48
        }
      ]
    },
    {
      "cell_type": "code",
      "metadata": {
        "id": "dw02h9Z9WpTJ",
        "colab_type": "code",
        "outputId": "30f61e0c-7600-4c4d-dc57-e1e9699f0369",
        "colab": {
          "base_uri": "https://localhost:8080/",
          "height": 119
        }
      },
      "source": [
        "train.business_longitude.head()"
      ],
      "execution_count": 0,
      "outputs": [
        {
          "output_type": "execute_result",
          "data": {
            "text/plain": [
              "0   -111.844343\n",
              "1    -80.937064\n",
              "2   -115.155604\n",
              "3   -115.120852\n",
              "4   -115.111863\n",
              "Name: business_longitude, dtype: float64"
            ]
          },
          "metadata": {
            "tags": []
          },
          "execution_count": 49
        }
      ]
    },
    {
      "cell_type": "code",
      "metadata": {
        "id": "gBP_xenAgtzm",
        "colab_type": "code",
        "colab": {}
      },
      "source": [
        "# looked up the midpoint of the united states\n",
        "middle_lat = 39.8333333\n",
        "middle_lon = -98.585522\n",
        "\n",
        "# compare with longitude latitude of the business to classify as northwest, northeast, southwest, southeast\n",
        "def find_region(business_lat, business_lon):\n",
        "  if np.isnan(business_lat) or np.isnan(business_lon):\n",
        "    return np.nan\n",
        "  if business_lat > middle_lat:\n",
        "    if business_lon > middle_lon:\n",
        "      return \"North East\"\n",
        "    return \"North West\"\n",
        "  if business_lon > middle_lon:\n",
        "    return \"South East\"\n",
        "  return \"South West\"\n",
        "business_region = [find_region(x,y) for x,y in zip(train.business_latitude.values, train.business_longitude.values)]"
      ],
      "execution_count": 0,
      "outputs": []
    },
    {
      "cell_type": "code",
      "metadata": {
        "id": "byikyj3ljBDT",
        "colab_type": "code",
        "outputId": "6899cf68-5b77-4062-8efe-51bbacc6cdfc",
        "colab": {
          "base_uri": "https://localhost:8080/",
          "height": 187
        }
      },
      "source": [
        "business_region[:10]"
      ],
      "execution_count": 0,
      "outputs": [
        {
          "output_type": "execute_result",
          "data": {
            "text/plain": [
              "['South West',\n",
              " 'South East',\n",
              " 'South West',\n",
              " 'South West',\n",
              " 'South West',\n",
              " 'South West',\n",
              " 'South West',\n",
              " 'North East',\n",
              " 'South West',\n",
              " 'South West']"
            ]
          },
          "metadata": {
            "tags": []
          },
          "execution_count": 89
        }
      ]
    },
    {
      "cell_type": "code",
      "metadata": {
        "id": "U4LbFiQdjj-h",
        "colab_type": "code",
        "outputId": "d6c593f3-f8c6-47c9-c0fb-9aba474f8456",
        "colab": {
          "base_uri": "https://localhost:8080/",
          "height": 204
        }
      },
      "source": [
        "train.business_state[:10]"
      ],
      "execution_count": 0,
      "outputs": [
        {
          "output_type": "execute_result",
          "data": {
            "text/plain": [
              "0    AZ\n",
              "1    SC\n",
              "2    NV\n",
              "3    NV\n",
              "4    NV\n",
              "5    AZ\n",
              "6    NV\n",
              "7    ON\n",
              "8    NV\n",
              "9    AZ\n",
              "Name: business_state, dtype: object"
            ]
          },
          "metadata": {
            "tags": []
          },
          "execution_count": 90
        }
      ]
    },
    {
      "cell_type": "code",
      "metadata": {
        "id": "70XNXe23zfEl",
        "colab_type": "code",
        "outputId": "cd88831a-843d-4341-a45d-17f1f812e768",
        "colab": {
          "base_uri": "https://localhost:8080/",
          "height": 646
        }
      },
      "source": [
        "train.business_state.value_counts()"
      ],
      "execution_count": 0,
      "outputs": [
        {
          "output_type": "execute_result",
          "data": {
            "text/plain": [
              "NV     83236\n",
              "AZ     75484\n",
              "ON     27832\n",
              "NC     14146\n",
              "OH     12288\n",
              "PA     10034\n",
              "QC      6148\n",
              "WI      4968\n",
              "EDH     2255\n",
              "IL      1419\n",
              "BW      1361\n",
              "SC       450\n",
              "HLD       99\n",
              "MLN       98\n",
              "CHE       34\n",
              "NYK       33\n",
              "FL        28\n",
              "FIF       19\n",
              "ESX       12\n",
              "WLN       12\n",
              "ELN        7\n",
              "C          7\n",
              "NY         6\n",
              "GLG        4\n",
              "NI         3\n",
              "XGL        3\n",
              "01         2\n",
              "AR         2\n",
              "ABE        2\n",
              "AK         2\n",
              "CA         1\n",
              "FAL        1\n",
              "TAM        1\n",
              "B          1\n",
              "IN         1\n",
              "KHL        1\n",
              "Name: business_state, dtype: int64"
            ]
          },
          "metadata": {
            "tags": []
          },
          "execution_count": 94
        }
      ]
    },
    {
      "cell_type": "code",
      "metadata": {
        "id": "nlZGeEKCzq4I",
        "colab_type": "code",
        "colab": {}
      },
      "source": [
        "# state codes are not unified, also this data seems to be coming from a bunch of different places, not just the united states"
      ],
      "execution_count": 0,
      "outputs": []
    },
    {
      "cell_type": "code",
      "metadata": {
        "id": "tL07vjOIjnih",
        "colab_type": "code",
        "outputId": "446a51ce-beb9-4e6f-8a4d-274940c494a0",
        "colab": {
          "base_uri": "https://localhost:8080/",
          "height": 204
        }
      },
      "source": [
        "train.business_city[:10]"
      ],
      "execution_count": 0,
      "outputs": [
        {
          "output_type": "execute_result",
          "data": {
            "text/plain": [
              "0           Chandler\n",
              "1          Fort Mill\n",
              "2          Las Vegas\n",
              "3          Las Vegas\n",
              "4          Henderson\n",
              "5           Chandler\n",
              "6          Las Vegas\n",
              "7            Toronto\n",
              "8    North Las Vegas\n",
              "9           Chandler\n",
              "Name: business_city, dtype: object"
            ]
          },
          "metadata": {
            "tags": []
          },
          "execution_count": 91
        }
      ]
    },
    {
      "cell_type": "code",
      "metadata": {
        "id": "xCriyzMIjyJC",
        "colab_type": "code",
        "colab": {}
      },
      "source": [
        "# judging from the Toronto, ON entry, there are canadian businesses in this data???\n",
        "train['business_region'] = business_region"
      ],
      "execution_count": 0,
      "outputs": []
    },
    {
      "cell_type": "code",
      "metadata": {
        "id": "lbWa7Wboxv1q",
        "colab_type": "code",
        "outputId": "eafc7f6d-e8f5-4a82-d438-db5b0dd99d28",
        "colab": {
          "base_uri": "https://localhost:8080/",
          "height": 170
        }
      },
      "source": [
        "train.groupby(['business_region', 'is_good_rating']).size()"
      ],
      "execution_count": 0,
      "outputs": [
        {
          "output_type": "execute_result",
          "data": {
            "text/plain": [
              "business_region  is_good_rating\n",
              "North East       0                  23739\n",
              "                 1                  42871\n",
              "North West       1                      1\n",
              "South East       0                   4978\n",
              "                 1                   9685\n",
              "South West       0                  51424\n",
              "                 1                 107300\n",
              "dtype: int64"
            ]
          },
          "metadata": {
            "tags": []
          },
          "execution_count": 93
        }
      ]
    },
    {
      "cell_type": "code",
      "metadata": {
        "id": "FfTpxUlQx0d7",
        "colab_type": "code",
        "outputId": "1f5be292-4791-48ea-89c3-574e582c7d55",
        "colab": {
          "base_uri": "https://localhost:8080/",
          "height": 222
        }
      },
      "source": [
        "# clearly some of the regions are incorrect, AZ should not be in the north west\n",
        "train[train.business_region=='North West']"
      ],
      "execution_count": 0,
      "outputs": [
        {
          "output_type": "execute_result",
          "data": {
            "text/html": [
              "<div>\n",
              "<style scoped>\n",
              "    .dataframe tbody tr th:only-of-type {\n",
              "        vertical-align: middle;\n",
              "    }\n",
              "\n",
              "    .dataframe tbody tr th {\n",
              "        vertical-align: top;\n",
              "    }\n",
              "\n",
              "    .dataframe thead th {\n",
              "        text-align: right;\n",
              "    }\n",
              "</style>\n",
              "<table border=\"1\" class=\"dataframe\">\n",
              "  <thead>\n",
              "    <tr style=\"text-align: right;\">\n",
              "      <th></th>\n",
              "      <th>review_id</th>\n",
              "      <th>business_id</th>\n",
              "      <th>user_id</th>\n",
              "      <th>date</th>\n",
              "      <th>cool</th>\n",
              "      <th>funny</th>\n",
              "      <th>useful</th>\n",
              "      <th>text</th>\n",
              "      <th>user_average_stars</th>\n",
              "      <th>user_elite</th>\n",
              "      <th>user_review_count</th>\n",
              "      <th>user_yelping_since</th>\n",
              "      <th>business_categories</th>\n",
              "      <th>business_city</th>\n",
              "      <th>business_latitude</th>\n",
              "      <th>business_longitude</th>\n",
              "      <th>business_review_count</th>\n",
              "      <th>business_average_stars</th>\n",
              "      <th>business_state</th>\n",
              "      <th>is_good_rating</th>\n",
              "      <th>bizcategory1</th>\n",
              "      <th>bizcategory2</th>\n",
              "      <th>top2categories</th>\n",
              "      <th>business_region</th>\n",
              "      <th>user_days_on_yelp</th>\n",
              "      <th>user_reviews_per_day</th>\n",
              "      <th>user_times_elite</th>\n",
              "      <th>authored_by_elite_user</th>\n",
              "      <th>user_business_avg_star_difference</th>\n",
              "      <th>business_total_stars</th>\n",
              "    </tr>\n",
              "  </thead>\n",
              "  <tbody>\n",
              "    <tr>\n",
              "      <th>182361</th>\n",
              "      <td>sbYPqcFihGOpZYZdfjLMng</td>\n",
              "      <td>0MAubmdZUjeCHlqy5nMuDw</td>\n",
              "      <td>VkyZgMTwfr3RalQLvKglLQ</td>\n",
              "      <td>2016-02-09</td>\n",
              "      <td>0</td>\n",
              "      <td>0</td>\n",
              "      <td>0</td>\n",
              "      <td>I had Ray repair 4 different spots that my dog...</td>\n",
              "      <td>4.2</td>\n",
              "      <td>None</td>\n",
              "      <td>5</td>\n",
              "      <td>2014-01-29</td>\n",
              "      <td>Flooring, Carpet Cleaning, Carpet Installation...</td>\n",
              "      <td>Mesa</td>\n",
              "      <td>47.308661</td>\n",
              "      <td>-122.397206</td>\n",
              "      <td>14</td>\n",
              "      <td>5.0</td>\n",
              "      <td>AZ</td>\n",
              "      <td>1</td>\n",
              "      <td>Flooring</td>\n",
              "      <td>Carpet Cleaning</td>\n",
              "      <td>Flooring Carpet Cleaning</td>\n",
              "      <td>North West</td>\n",
              "      <td>2072</td>\n",
              "      <td>0.002413</td>\n",
              "      <td>0</td>\n",
              "      <td>0</td>\n",
              "      <td>-0.8</td>\n",
              "      <td>70.0</td>\n",
              "    </tr>\n",
              "  </tbody>\n",
              "</table>\n",
              "</div>"
            ],
            "text/plain": [
              "                     review_id  ... business_total_stars\n",
              "182361  sbYPqcFihGOpZYZdfjLMng  ...                 70.0\n",
              "\n",
              "[1 rows x 30 columns]"
            ]
          },
          "metadata": {
            "tags": []
          },
          "execution_count": 97
        }
      ]
    },
    {
      "cell_type": "code",
      "metadata": {
        "id": "J0xfsDizz1ZR",
        "colab_type": "code",
        "colab": {}
      },
      "source": [
        "# this probably indicates that we should not use business_region or business_state as a feature\n",
        "# might need to think of other features that are more consistent or informative"
      ],
      "execution_count": 0,
      "outputs": []
    },
    {
      "cell_type": "code",
      "metadata": {
        "id": "wf9PxFjDvdMM",
        "colab_type": "code",
        "colab": {}
      },
      "source": [
        "train['business_total_stars'] = train.business_review_count * train.business_average_stars"
      ],
      "execution_count": 0,
      "outputs": []
    },
    {
      "cell_type": "code",
      "metadata": {
        "id": "vu0e1EN_kEDN",
        "colab_type": "code",
        "outputId": "61014d78-916d-429d-c27d-2cb48b9287b5",
        "colab": {
          "base_uri": "https://localhost:8080/",
          "height": 119
        }
      },
      "source": [
        "user_stats = ['user_average_stars', 'user_elite', 'user_review_count', 'user_yelping_since']\n",
        "print(train.user_elite.head())"
      ],
      "execution_count": 0,
      "outputs": [
        {
          "output_type": "stream",
          "text": [
            "0          None\n",
            "1          None\n",
            "2          None\n",
            "3    2013, 2012\n",
            "4          None\n",
            "Name: user_elite, dtype: object\n"
          ],
          "name": "stdout"
        }
      ]
    },
    {
      "cell_type": "code",
      "metadata": {
        "id": "PyA-fXElkSuH",
        "colab_type": "code",
        "outputId": "39b4e087-9588-4b04-ece9-4ebb83faa261",
        "colab": {
          "base_uri": "https://localhost:8080/",
          "height": 119
        }
      },
      "source": [
        "elite_count = train.user_elite.apply(lambda x: 0 if x=='None' else len(x.split(', ')))\n",
        "elite_count.head()"
      ],
      "execution_count": 0,
      "outputs": [
        {
          "output_type": "execute_result",
          "data": {
            "text/plain": [
              "0    0\n",
              "1    0\n",
              "2    0\n",
              "3    2\n",
              "4    0\n",
              "Name: user_elite, dtype: int64"
            ]
          },
          "metadata": {
            "tags": []
          },
          "execution_count": 56
        }
      ]
    },
    {
      "cell_type": "code",
      "metadata": {
        "id": "tXoZobfYkhkm",
        "colab_type": "code",
        "outputId": "c4ce43e2-d42d-4488-c074-994dbbf6f668",
        "colab": {
          "base_uri": "https://localhost:8080/",
          "height": 34
        }
      },
      "source": [
        "elite_count.max()"
      ],
      "execution_count": 0,
      "outputs": [
        {
          "output_type": "execute_result",
          "data": {
            "text/plain": [
              "12"
            ]
          },
          "metadata": {
            "tags": []
          },
          "execution_count": 57
        }
      ]
    },
    {
      "cell_type": "code",
      "metadata": {
        "id": "OMa5j_j5k4H-",
        "colab_type": "code",
        "outputId": "1d9c59ca-4b53-4bf0-be24-fbf0ebf6194f",
        "colab": {
          "base_uri": "https://localhost:8080/",
          "height": 119
        }
      },
      "source": [
        "train.user_yelping_since.head()"
      ],
      "execution_count": 0,
      "outputs": [
        {
          "output_type": "execute_result",
          "data": {
            "text/plain": [
              "0    2013-10-23\n",
              "1    2016-07-04\n",
              "2    2013-09-05\n",
              "3    2010-09-03\n",
              "4    2016-03-24\n",
              "Name: user_yelping_since, dtype: object"
            ]
          },
          "metadata": {
            "tags": []
          },
          "execution_count": 58
        }
      ]
    },
    {
      "cell_type": "code",
      "metadata": {
        "id": "qV-IxruKlAIJ",
        "colab_type": "code",
        "outputId": "0294e954-4149-4545-960f-01bc5dc6b4ef",
        "colab": {
          "base_uri": "https://localhost:8080/",
          "height": 119
        }
      },
      "source": [
        "user_yelping_since = pd.to_datetime(train.user_yelping_since)\n",
        "user_yelping_since.head()"
      ],
      "execution_count": 0,
      "outputs": [
        {
          "output_type": "execute_result",
          "data": {
            "text/plain": [
              "0   2013-10-23\n",
              "1   2016-07-04\n",
              "2   2013-09-05\n",
              "3   2010-09-03\n",
              "4   2016-03-24\n",
              "Name: user_yelping_since, dtype: datetime64[ns]"
            ]
          },
          "metadata": {
            "tags": []
          },
          "execution_count": 59
        }
      ]
    },
    {
      "cell_type": "code",
      "metadata": {
        "id": "3phwFh3UlSfq",
        "colab_type": "code",
        "outputId": "fdcb24c5-6f19-4cdc-a8b5-551fd5ae2492",
        "colab": {
          "base_uri": "https://localhost:8080/",
          "height": 119
        }
      },
      "source": [
        "train.user_review_count.head()"
      ],
      "execution_count": 0,
      "outputs": [
        {
          "output_type": "execute_result",
          "data": {
            "text/plain": [
              "0     5\n",
              "1     7\n",
              "2    21\n",
              "3    83\n",
              "4    28\n",
              "Name: user_review_count, dtype: int64"
            ]
          },
          "metadata": {
            "tags": []
          },
          "execution_count": 60
        }
      ]
    },
    {
      "cell_type": "code",
      "metadata": {
        "id": "kUHZUa8-lY2s",
        "colab_type": "code",
        "outputId": "b9ba122b-3bc3-465c-a48c-45343d5e20a1",
        "colab": {
          "base_uri": "https://localhost:8080/",
          "height": 119
        }
      },
      "source": [
        "# some reviewers have not been \"active\" -- very few reviews since they started yelping, whereas others have been active or elite\n",
        "user_days_on_yelp = (pd.datetime.now()-user_yelping_since).dt.days\n",
        "user_days_on_yelp.head()"
      ],
      "execution_count": 0,
      "outputs": [
        {
          "output_type": "execute_result",
          "data": {
            "text/plain": [
              "0    2170\n",
              "1    1185\n",
              "2    2218\n",
              "3    3316\n",
              "4    1287\n",
              "Name: user_yelping_since, dtype: int64"
            ]
          },
          "metadata": {
            "tags": []
          },
          "execution_count": 61
        }
      ]
    },
    {
      "cell_type": "code",
      "metadata": {
        "id": "SuQXffsDl473",
        "colab_type": "code",
        "outputId": "bf45e6b3-04e6-4004-b11a-0258268c18a0",
        "colab": {
          "base_uri": "https://localhost:8080/",
          "height": 119
        }
      },
      "source": [
        "user_reviews_per_day = train.user_review_count / user_days_on_yelp\n",
        "user_reviews_per_day.head()"
      ],
      "execution_count": 0,
      "outputs": [
        {
          "output_type": "execute_result",
          "data": {
            "text/plain": [
              "0    0.002304\n",
              "1    0.005907\n",
              "2    0.009468\n",
              "3    0.025030\n",
              "4    0.021756\n",
              "dtype: float64"
            ]
          },
          "metadata": {
            "tags": []
          },
          "execution_count": 62
        }
      ]
    },
    {
      "cell_type": "code",
      "metadata": {
        "id": "3DhIiRAMmNEf",
        "colab_type": "code",
        "outputId": "2be81bbb-3fb8-4244-d71b-e3faa1ffa052",
        "colab": {
          "base_uri": "https://localhost:8080/",
          "height": 550
        }
      },
      "source": [
        "train['user_days_on_yelp'] = user_days_on_yelp\n",
        "train['user_yelping_since'] = user_yelping_since\n",
        "train['user_reviews_per_day'] = user_reviews_per_day\n",
        "train['user_times_elite'] = elite_count\n",
        "train.head()"
      ],
      "execution_count": 0,
      "outputs": [
        {
          "output_type": "execute_result",
          "data": {
            "text/html": [
              "<div>\n",
              "<style scoped>\n",
              "    .dataframe tbody tr th:only-of-type {\n",
              "        vertical-align: middle;\n",
              "    }\n",
              "\n",
              "    .dataframe tbody tr th {\n",
              "        vertical-align: top;\n",
              "    }\n",
              "\n",
              "    .dataframe thead th {\n",
              "        text-align: right;\n",
              "    }\n",
              "</style>\n",
              "<table border=\"1\" class=\"dataframe\">\n",
              "  <thead>\n",
              "    <tr style=\"text-align: right;\">\n",
              "      <th></th>\n",
              "      <th>review_id</th>\n",
              "      <th>business_id</th>\n",
              "      <th>user_id</th>\n",
              "      <th>date</th>\n",
              "      <th>cool</th>\n",
              "      <th>funny</th>\n",
              "      <th>useful</th>\n",
              "      <th>text</th>\n",
              "      <th>user_average_stars</th>\n",
              "      <th>user_elite</th>\n",
              "      <th>user_review_count</th>\n",
              "      <th>user_yelping_since</th>\n",
              "      <th>business_categories</th>\n",
              "      <th>business_city</th>\n",
              "      <th>business_latitude</th>\n",
              "      <th>business_longitude</th>\n",
              "      <th>business_review_count</th>\n",
              "      <th>business_average_stars</th>\n",
              "      <th>business_state</th>\n",
              "      <th>is_good_rating</th>\n",
              "      <th>bizcategory1</th>\n",
              "      <th>bizcategory2</th>\n",
              "      <th>top2categories</th>\n",
              "      <th>business_region</th>\n",
              "      <th>user_days_on_yelp</th>\n",
              "      <th>user_reviews_per_day</th>\n",
              "      <th>user_times_elite</th>\n",
              "    </tr>\n",
              "  </thead>\n",
              "  <tbody>\n",
              "    <tr>\n",
              "      <th>0</th>\n",
              "      <td>9uu-JXdQuQ3rXOd1Vxv8kA</td>\n",
              "      <td>8zN3nV0zbtE377_XhlvabA</td>\n",
              "      <td>MWahC54Rd_CNv_0VtjCD6A</td>\n",
              "      <td>2017-06-27</td>\n",
              "      <td>0</td>\n",
              "      <td>0</td>\n",
              "      <td>0</td>\n",
              "      <td>Pool tables, darts, and other neighborhood bar...</td>\n",
              "      <td>2.00</td>\n",
              "      <td>None</td>\n",
              "      <td>5</td>\n",
              "      <td>2013-10-23</td>\n",
              "      <td>Restaurants, Sports Bars, Bars, American (Trad...</td>\n",
              "      <td>Chandler</td>\n",
              "      <td>33.336050</td>\n",
              "      <td>-111.844343</td>\n",
              "      <td>158</td>\n",
              "      <td>4.0</td>\n",
              "      <td>AZ</td>\n",
              "      <td>0</td>\n",
              "      <td>Restaurants</td>\n",
              "      <td>Sports Bars</td>\n",
              "      <td>Restaurants Sports Bars</td>\n",
              "      <td>South West</td>\n",
              "      <td>2170</td>\n",
              "      <td>0.002304</td>\n",
              "      <td>0</td>\n",
              "    </tr>\n",
              "    <tr>\n",
              "      <th>1</th>\n",
              "      <td>UbCgugoTK2MfBmtU_8PXaQ</td>\n",
              "      <td>wJ-PcjemwR44WitIJsDzsA</td>\n",
              "      <td>N-GOto4b3ltfGJ7y-5g-pg</td>\n",
              "      <td>2017-03-25</td>\n",
              "      <td>0</td>\n",
              "      <td>0</td>\n",
              "      <td>0</td>\n",
              "      <td>This place was alright. However, their classic...</td>\n",
              "      <td>4.43</td>\n",
              "      <td>None</td>\n",
              "      <td>7</td>\n",
              "      <td>2016-07-04</td>\n",
              "      <td>Beauty &amp; Spas, Nail Salons</td>\n",
              "      <td>Fort Mill</td>\n",
              "      <td>35.058040</td>\n",
              "      <td>-80.937064</td>\n",
              "      <td>26</td>\n",
              "      <td>3.5</td>\n",
              "      <td>SC</td>\n",
              "      <td>0</td>\n",
              "      <td>Beauty &amp; Spas</td>\n",
              "      <td>Nail Salons</td>\n",
              "      <td>Beauty &amp; Spas Nail Salons</td>\n",
              "      <td>South East</td>\n",
              "      <td>1185</td>\n",
              "      <td>0.005907</td>\n",
              "      <td>0</td>\n",
              "    </tr>\n",
              "    <tr>\n",
              "      <th>2</th>\n",
              "      <td>6oF9_NR1O5Y_NOE6INXfrg</td>\n",
              "      <td>fP4sMlVw_MvyGNv4xeTGDA</td>\n",
              "      <td>RH3w77UyXaQPiOx2jOE7zg</td>\n",
              "      <td>2017-07-14</td>\n",
              "      <td>0</td>\n",
              "      <td>0</td>\n",
              "      <td>0</td>\n",
              "      <td>First time at Pieology Pizzeria and I was impr...</td>\n",
              "      <td>4.09</td>\n",
              "      <td>None</td>\n",
              "      <td>21</td>\n",
              "      <td>2013-09-05</td>\n",
              "      <td>Pizza, Restaurants</td>\n",
              "      <td>Las Vegas</td>\n",
              "      <td>36.114884</td>\n",
              "      <td>-115.155604</td>\n",
              "      <td>189</td>\n",
              "      <td>4.0</td>\n",
              "      <td>NV</td>\n",
              "      <td>1</td>\n",
              "      <td>Pizza</td>\n",
              "      <td>Restaurants</td>\n",
              "      <td>Pizza Restaurants</td>\n",
              "      <td>South West</td>\n",
              "      <td>2218</td>\n",
              "      <td>0.009468</td>\n",
              "      <td>0</td>\n",
              "    </tr>\n",
              "    <tr>\n",
              "      <th>3</th>\n",
              "      <td>kyYWrcrr83GnJ7m_VEvwCA</td>\n",
              "      <td>hgWMxKhrnOUd3m5nOUBIkA</td>\n",
              "      <td>g6pwf1E-CylnZQRoaZGGdw</td>\n",
              "      <td>2010-12-13</td>\n",
              "      <td>1</td>\n",
              "      <td>0</td>\n",
              "      <td>0</td>\n",
              "      <td>Its a good facility with lots of equipment and...</td>\n",
              "      <td>3.55</td>\n",
              "      <td>2013, 2012</td>\n",
              "      <td>83</td>\n",
              "      <td>2010-09-03</td>\n",
              "      <td>Active Life, Fitness &amp; Instruction, Trainers, ...</td>\n",
              "      <td>Las Vegas</td>\n",
              "      <td>36.025332</td>\n",
              "      <td>-115.120852</td>\n",
              "      <td>316</td>\n",
              "      <td>3.0</td>\n",
              "      <td>NV</td>\n",
              "      <td>0</td>\n",
              "      <td>Active Life</td>\n",
              "      <td>Fitness &amp; Instruction</td>\n",
              "      <td>Active Life Fitness &amp; Instruction</td>\n",
              "      <td>South West</td>\n",
              "      <td>3316</td>\n",
              "      <td>0.025030</td>\n",
              "      <td>2</td>\n",
              "    </tr>\n",
              "    <tr>\n",
              "      <th>4</th>\n",
              "      <td>K2X3XG9_M3EM0TWguo2bCw</td>\n",
              "      <td>KMKPusWbBaIORB669W0EeQ</td>\n",
              "      <td>14nl002my6qLaEcqYHLPig</td>\n",
              "      <td>2016-09-12</td>\n",
              "      <td>1</td>\n",
              "      <td>1</td>\n",
              "      <td>1</td>\n",
              "      <td>Very very disappointed! My shawarma chicken wa...</td>\n",
              "      <td>3.75</td>\n",
              "      <td>None</td>\n",
              "      <td>28</td>\n",
              "      <td>2016-03-24</td>\n",
              "      <td>Mediterranean, Restaurants</td>\n",
              "      <td>Henderson</td>\n",
              "      <td>36.005901</td>\n",
              "      <td>-115.111863</td>\n",
              "      <td>61</td>\n",
              "      <td>3.5</td>\n",
              "      <td>NV</td>\n",
              "      <td>0</td>\n",
              "      <td>Mediterranean</td>\n",
              "      <td>Restaurants</td>\n",
              "      <td>Mediterranean Restaurants</td>\n",
              "      <td>South West</td>\n",
              "      <td>1287</td>\n",
              "      <td>0.021756</td>\n",
              "      <td>0</td>\n",
              "    </tr>\n",
              "  </tbody>\n",
              "</table>\n",
              "</div>"
            ],
            "text/plain": [
              "                review_id  ... user_times_elite\n",
              "0  9uu-JXdQuQ3rXOd1Vxv8kA  ...                0\n",
              "1  UbCgugoTK2MfBmtU_8PXaQ  ...                0\n",
              "2  6oF9_NR1O5Y_NOE6INXfrg  ...                0\n",
              "3  kyYWrcrr83GnJ7m_VEvwCA  ...                2\n",
              "4  K2X3XG9_M3EM0TWguo2bCw  ...                0\n",
              "\n",
              "[5 rows x 27 columns]"
            ]
          },
          "metadata": {
            "tags": []
          },
          "execution_count": 63
        }
      ]
    },
    {
      "cell_type": "code",
      "metadata": {
        "id": "MpDiauesmpUZ",
        "colab_type": "code",
        "outputId": "d6dc25fd-fcfe-4981-abd8-0201f0fe6251",
        "colab": {
          "base_uri": "https://localhost:8080/",
          "height": 119
        }
      },
      "source": [
        "train.date = pd.to_datetime(train.date)\n",
        "train.date.head()"
      ],
      "execution_count": 0,
      "outputs": [
        {
          "output_type": "execute_result",
          "data": {
            "text/plain": [
              "0   2017-06-27\n",
              "1   2017-03-25\n",
              "2   2017-07-14\n",
              "3   2010-12-13\n",
              "4   2016-09-12\n",
              "Name: date, dtype: datetime64[ns]"
            ]
          },
          "metadata": {
            "tags": []
          },
          "execution_count": 64
        }
      ]
    },
    {
      "cell_type": "code",
      "metadata": {
        "id": "i-MDU7xinBEN",
        "colab_type": "code",
        "outputId": "b3e403b0-f6c8-42da-d113-acc4ffa22d33",
        "colab": {
          "base_uri": "https://localhost:8080/",
          "height": 68
        }
      },
      "source": [
        "authored_by_elite_user = [1 if x in y else 0 for x,y in zip(train.date.dt.strftime('%Y'),train.user_elite)]\n",
        "authored_by_elite_user = pd.Series(authored_by_elite_user)\n",
        "authored_by_elite_user.value_counts()"
      ],
      "execution_count": 0,
      "outputs": [
        {
          "output_type": "execute_result",
          "data": {
            "text/plain": [
              "0    194072\n",
              "1     45928\n",
              "dtype: int64"
            ]
          },
          "metadata": {
            "tags": []
          },
          "execution_count": 65
        }
      ]
    },
    {
      "cell_type": "code",
      "metadata": {
        "id": "39U9dsipnSIE",
        "colab_type": "code",
        "colab": {}
      },
      "source": [
        "train['authored_by_elite_user'] = authored_by_elite_user"
      ],
      "execution_count": 0,
      "outputs": []
    },
    {
      "cell_type": "code",
      "metadata": {
        "id": "FSvrB5HTnvIZ",
        "colab_type": "code",
        "outputId": "5a036aa3-d527-48f4-adc0-7c274d46151d",
        "colab": {
          "base_uri": "https://localhost:8080/",
          "height": 119
        }
      },
      "source": [
        "train.user_average_stars.head()"
      ],
      "execution_count": 0,
      "outputs": [
        {
          "output_type": "execute_result",
          "data": {
            "text/plain": [
              "0    2.00\n",
              "1    4.43\n",
              "2    4.09\n",
              "3    3.55\n",
              "4    3.75\n",
              "Name: user_average_stars, dtype: float64"
            ]
          },
          "metadata": {
            "tags": []
          },
          "execution_count": 67
        }
      ]
    },
    {
      "cell_type": "code",
      "metadata": {
        "id": "1OH7f1K0pNob",
        "colab_type": "code",
        "outputId": "ec90b364-d640-4c82-be6c-f63fbedd7adc",
        "colab": {
          "base_uri": "https://localhost:8080/",
          "height": 170
        }
      },
      "source": [
        "train.user_average_stars.describe()"
      ],
      "execution_count": 0,
      "outputs": [
        {
          "output_type": "execute_result",
          "data": {
            "text/plain": [
              "count    240000.000000\n",
              "mean          3.750624\n",
              "std           0.794099\n",
              "min           1.000000\n",
              "25%           3.420000\n",
              "50%           3.820000\n",
              "75%           4.200000\n",
              "max           5.000000\n",
              "Name: user_average_stars, dtype: float64"
            ]
          },
          "metadata": {
            "tags": []
          },
          "execution_count": 68
        }
      ]
    },
    {
      "cell_type": "code",
      "metadata": {
        "id": "Jfl_sBhbpQcb",
        "colab_type": "code",
        "outputId": "c7aab68f-2364-4d5e-b39b-0670d4afe97d",
        "colab": {
          "base_uri": "https://localhost:8080/",
          "height": 119
        }
      },
      "source": [
        "user_likely_critical = train.user_average_stars-train.business_average_stars\n",
        "user_likely_critical.head()"
      ],
      "execution_count": 0,
      "outputs": [
        {
          "output_type": "execute_result",
          "data": {
            "text/plain": [
              "0   -2.00\n",
              "1    0.93\n",
              "2    0.09\n",
              "3    0.55\n",
              "4    0.25\n",
              "dtype: float64"
            ]
          },
          "metadata": {
            "tags": []
          },
          "execution_count": 69
        }
      ]
    },
    {
      "cell_type": "code",
      "metadata": {
        "id": "x_7S3iKbqhgw",
        "colab_type": "code",
        "outputId": "d92c6461-25f0-44a6-fd88-d6f4244e15ba",
        "colab": {
          "base_uri": "https://localhost:8080/",
          "height": 570
        }
      },
      "source": [
        "train['user_likely_critical'] = user_likely_critical\n",
        "train.rename({'user_likely_critical': 'user_business_avg_star_difference'}, axis=1, inplace=True)\n",
        "train.head()"
      ],
      "execution_count": 0,
      "outputs": [
        {
          "output_type": "execute_result",
          "data": {
            "text/html": [
              "<div>\n",
              "<style scoped>\n",
              "    .dataframe tbody tr th:only-of-type {\n",
              "        vertical-align: middle;\n",
              "    }\n",
              "\n",
              "    .dataframe tbody tr th {\n",
              "        vertical-align: top;\n",
              "    }\n",
              "\n",
              "    .dataframe thead th {\n",
              "        text-align: right;\n",
              "    }\n",
              "</style>\n",
              "<table border=\"1\" class=\"dataframe\">\n",
              "  <thead>\n",
              "    <tr style=\"text-align: right;\">\n",
              "      <th></th>\n",
              "      <th>review_id</th>\n",
              "      <th>business_id</th>\n",
              "      <th>user_id</th>\n",
              "      <th>date</th>\n",
              "      <th>cool</th>\n",
              "      <th>funny</th>\n",
              "      <th>useful</th>\n",
              "      <th>text</th>\n",
              "      <th>user_average_stars</th>\n",
              "      <th>user_elite</th>\n",
              "      <th>user_review_count</th>\n",
              "      <th>user_yelping_since</th>\n",
              "      <th>business_categories</th>\n",
              "      <th>business_city</th>\n",
              "      <th>business_latitude</th>\n",
              "      <th>business_longitude</th>\n",
              "      <th>business_review_count</th>\n",
              "      <th>business_average_stars</th>\n",
              "      <th>business_state</th>\n",
              "      <th>is_good_rating</th>\n",
              "      <th>bizcategory1</th>\n",
              "      <th>bizcategory2</th>\n",
              "      <th>top2categories</th>\n",
              "      <th>business_region</th>\n",
              "      <th>user_days_on_yelp</th>\n",
              "      <th>user_reviews_per_day</th>\n",
              "      <th>user_times_elite</th>\n",
              "      <th>authored_by_elite_user</th>\n",
              "      <th>user_business_avg_star_difference</th>\n",
              "    </tr>\n",
              "  </thead>\n",
              "  <tbody>\n",
              "    <tr>\n",
              "      <th>0</th>\n",
              "      <td>9uu-JXdQuQ3rXOd1Vxv8kA</td>\n",
              "      <td>8zN3nV0zbtE377_XhlvabA</td>\n",
              "      <td>MWahC54Rd_CNv_0VtjCD6A</td>\n",
              "      <td>2017-06-27</td>\n",
              "      <td>0</td>\n",
              "      <td>0</td>\n",
              "      <td>0</td>\n",
              "      <td>Pool tables, darts, and other neighborhood bar...</td>\n",
              "      <td>2.00</td>\n",
              "      <td>None</td>\n",
              "      <td>5</td>\n",
              "      <td>2013-10-23</td>\n",
              "      <td>Restaurants, Sports Bars, Bars, American (Trad...</td>\n",
              "      <td>Chandler</td>\n",
              "      <td>33.336050</td>\n",
              "      <td>-111.844343</td>\n",
              "      <td>158</td>\n",
              "      <td>4.0</td>\n",
              "      <td>AZ</td>\n",
              "      <td>0</td>\n",
              "      <td>Restaurants</td>\n",
              "      <td>Sports Bars</td>\n",
              "      <td>Restaurants Sports Bars</td>\n",
              "      <td>South West</td>\n",
              "      <td>2170</td>\n",
              "      <td>0.002304</td>\n",
              "      <td>0</td>\n",
              "      <td>0</td>\n",
              "      <td>-2.00</td>\n",
              "    </tr>\n",
              "    <tr>\n",
              "      <th>1</th>\n",
              "      <td>UbCgugoTK2MfBmtU_8PXaQ</td>\n",
              "      <td>wJ-PcjemwR44WitIJsDzsA</td>\n",
              "      <td>N-GOto4b3ltfGJ7y-5g-pg</td>\n",
              "      <td>2017-03-25</td>\n",
              "      <td>0</td>\n",
              "      <td>0</td>\n",
              "      <td>0</td>\n",
              "      <td>This place was alright. However, their classic...</td>\n",
              "      <td>4.43</td>\n",
              "      <td>None</td>\n",
              "      <td>7</td>\n",
              "      <td>2016-07-04</td>\n",
              "      <td>Beauty &amp; Spas, Nail Salons</td>\n",
              "      <td>Fort Mill</td>\n",
              "      <td>35.058040</td>\n",
              "      <td>-80.937064</td>\n",
              "      <td>26</td>\n",
              "      <td>3.5</td>\n",
              "      <td>SC</td>\n",
              "      <td>0</td>\n",
              "      <td>Beauty &amp; Spas</td>\n",
              "      <td>Nail Salons</td>\n",
              "      <td>Beauty &amp; Spas Nail Salons</td>\n",
              "      <td>South East</td>\n",
              "      <td>1185</td>\n",
              "      <td>0.005907</td>\n",
              "      <td>0</td>\n",
              "      <td>0</td>\n",
              "      <td>0.93</td>\n",
              "    </tr>\n",
              "    <tr>\n",
              "      <th>2</th>\n",
              "      <td>6oF9_NR1O5Y_NOE6INXfrg</td>\n",
              "      <td>fP4sMlVw_MvyGNv4xeTGDA</td>\n",
              "      <td>RH3w77UyXaQPiOx2jOE7zg</td>\n",
              "      <td>2017-07-14</td>\n",
              "      <td>0</td>\n",
              "      <td>0</td>\n",
              "      <td>0</td>\n",
              "      <td>First time at Pieology Pizzeria and I was impr...</td>\n",
              "      <td>4.09</td>\n",
              "      <td>None</td>\n",
              "      <td>21</td>\n",
              "      <td>2013-09-05</td>\n",
              "      <td>Pizza, Restaurants</td>\n",
              "      <td>Las Vegas</td>\n",
              "      <td>36.114884</td>\n",
              "      <td>-115.155604</td>\n",
              "      <td>189</td>\n",
              "      <td>4.0</td>\n",
              "      <td>NV</td>\n",
              "      <td>1</td>\n",
              "      <td>Pizza</td>\n",
              "      <td>Restaurants</td>\n",
              "      <td>Pizza Restaurants</td>\n",
              "      <td>South West</td>\n",
              "      <td>2218</td>\n",
              "      <td>0.009468</td>\n",
              "      <td>0</td>\n",
              "      <td>0</td>\n",
              "      <td>0.09</td>\n",
              "    </tr>\n",
              "    <tr>\n",
              "      <th>3</th>\n",
              "      <td>kyYWrcrr83GnJ7m_VEvwCA</td>\n",
              "      <td>hgWMxKhrnOUd3m5nOUBIkA</td>\n",
              "      <td>g6pwf1E-CylnZQRoaZGGdw</td>\n",
              "      <td>2010-12-13</td>\n",
              "      <td>1</td>\n",
              "      <td>0</td>\n",
              "      <td>0</td>\n",
              "      <td>Its a good facility with lots of equipment and...</td>\n",
              "      <td>3.55</td>\n",
              "      <td>2013, 2012</td>\n",
              "      <td>83</td>\n",
              "      <td>2010-09-03</td>\n",
              "      <td>Active Life, Fitness &amp; Instruction, Trainers, ...</td>\n",
              "      <td>Las Vegas</td>\n",
              "      <td>36.025332</td>\n",
              "      <td>-115.120852</td>\n",
              "      <td>316</td>\n",
              "      <td>3.0</td>\n",
              "      <td>NV</td>\n",
              "      <td>0</td>\n",
              "      <td>Active Life</td>\n",
              "      <td>Fitness &amp; Instruction</td>\n",
              "      <td>Active Life Fitness &amp; Instruction</td>\n",
              "      <td>South West</td>\n",
              "      <td>3316</td>\n",
              "      <td>0.025030</td>\n",
              "      <td>2</td>\n",
              "      <td>0</td>\n",
              "      <td>0.55</td>\n",
              "    </tr>\n",
              "    <tr>\n",
              "      <th>4</th>\n",
              "      <td>K2X3XG9_M3EM0TWguo2bCw</td>\n",
              "      <td>KMKPusWbBaIORB669W0EeQ</td>\n",
              "      <td>14nl002my6qLaEcqYHLPig</td>\n",
              "      <td>2016-09-12</td>\n",
              "      <td>1</td>\n",
              "      <td>1</td>\n",
              "      <td>1</td>\n",
              "      <td>Very very disappointed! My shawarma chicken wa...</td>\n",
              "      <td>3.75</td>\n",
              "      <td>None</td>\n",
              "      <td>28</td>\n",
              "      <td>2016-03-24</td>\n",
              "      <td>Mediterranean, Restaurants</td>\n",
              "      <td>Henderson</td>\n",
              "      <td>36.005901</td>\n",
              "      <td>-115.111863</td>\n",
              "      <td>61</td>\n",
              "      <td>3.5</td>\n",
              "      <td>NV</td>\n",
              "      <td>0</td>\n",
              "      <td>Mediterranean</td>\n",
              "      <td>Restaurants</td>\n",
              "      <td>Mediterranean Restaurants</td>\n",
              "      <td>South West</td>\n",
              "      <td>1287</td>\n",
              "      <td>0.021756</td>\n",
              "      <td>0</td>\n",
              "      <td>0</td>\n",
              "      <td>0.25</td>\n",
              "    </tr>\n",
              "  </tbody>\n",
              "</table>\n",
              "</div>"
            ],
            "text/plain": [
              "                review_id  ... user_business_avg_star_difference\n",
              "0  9uu-JXdQuQ3rXOd1Vxv8kA  ...                             -2.00\n",
              "1  UbCgugoTK2MfBmtU_8PXaQ  ...                              0.93\n",
              "2  6oF9_NR1O5Y_NOE6INXfrg  ...                              0.09\n",
              "3  kyYWrcrr83GnJ7m_VEvwCA  ...                              0.55\n",
              "4  K2X3XG9_M3EM0TWguo2bCw  ...                              0.25\n",
              "\n",
              "[5 rows x 29 columns]"
            ]
          },
          "metadata": {
            "tags": []
          },
          "execution_count": 70
        }
      ]
    },
    {
      "cell_type": "code",
      "metadata": {
        "id": "wHs-2QsPrfaW",
        "colab_type": "code",
        "outputId": "45ae3471-822c-42c6-8855-e66650d37b4f",
        "colab": {
          "base_uri": "https://localhost:8080/",
          "height": 357
        }
      },
      "source": [
        "# eda on review type\n",
        "print(train[train.is_good_rating==1][['cool','funny','useful']].describe())\n",
        "print('good reviews ^^ ')\n",
        "print(train[train.is_good_rating==0][['cool','funny','useful']].describe())\n",
        "print('bad reviews ^^')"
      ],
      "execution_count": 0,
      "outputs": [
        {
          "output_type": "stream",
          "text": [
            "                cool          funny         useful\n",
            "count  159858.000000  159858.000000  159858.000000\n",
            "mean        0.613132       0.382258       1.134976\n",
            "std         2.897990       2.624454       3.363687\n",
            "min         0.000000       0.000000       0.000000\n",
            "25%         0.000000       0.000000       0.000000\n",
            "50%         0.000000       0.000000       0.000000\n",
            "75%         1.000000       0.000000       1.000000\n",
            "max       234.000000     589.000000     246.000000\n",
            "good reviews ^^ \n",
            "               cool         funny        useful\n",
            "count  80142.000000  80142.000000  80142.000000\n",
            "mean       0.407377      0.624379      1.724165\n",
            "std        3.023209      3.473608      8.507285\n",
            "min        0.000000      0.000000      0.000000\n",
            "25%        0.000000      0.000000      0.000000\n",
            "50%        0.000000      0.000000      1.000000\n",
            "75%        0.000000      1.000000      2.000000\n",
            "max      245.000000    447.000000   1456.000000\n",
            "bad reviews ^^\n"
          ],
          "name": "stdout"
        }
      ]
    },
    {
      "cell_type": "code",
      "metadata": {
        "id": "pXiPM7MwtFH8",
        "colab_type": "code",
        "colab": {}
      },
      "source": [
        "# seems like useful reviews tend to be strong indicators of a bad/negative rating\n",
        "# cool reviews tend to be slightly indicative of a good rating \n",
        "# funny reviews don't tend to inform the decision (at least according to this training set)"
      ],
      "execution_count": 0,
      "outputs": []
    },
    {
      "cell_type": "code",
      "metadata": {
        "id": "fCOyQfU6vmCt",
        "colab_type": "code",
        "outputId": "e2bf4e57-daa5-4e1a-f01a-2da753c44c9a",
        "colab": {
          "base_uri": "https://localhost:8080/",
          "height": 550
        }
      },
      "source": [
        "train.head()"
      ],
      "execution_count": 0,
      "outputs": [
        {
          "output_type": "execute_result",
          "data": {
            "text/html": [
              "<div>\n",
              "<style scoped>\n",
              "    .dataframe tbody tr th:only-of-type {\n",
              "        vertical-align: middle;\n",
              "    }\n",
              "\n",
              "    .dataframe tbody tr th {\n",
              "        vertical-align: top;\n",
              "    }\n",
              "\n",
              "    .dataframe thead th {\n",
              "        text-align: right;\n",
              "    }\n",
              "</style>\n",
              "<table border=\"1\" class=\"dataframe\">\n",
              "  <thead>\n",
              "    <tr style=\"text-align: right;\">\n",
              "      <th></th>\n",
              "      <th>review_id</th>\n",
              "      <th>business_id</th>\n",
              "      <th>user_id</th>\n",
              "      <th>date</th>\n",
              "      <th>cool</th>\n",
              "      <th>funny</th>\n",
              "      <th>useful</th>\n",
              "      <th>text</th>\n",
              "      <th>user_average_stars</th>\n",
              "      <th>user_elite</th>\n",
              "      <th>user_review_count</th>\n",
              "      <th>user_yelping_since</th>\n",
              "      <th>business_categories</th>\n",
              "      <th>business_city</th>\n",
              "      <th>business_latitude</th>\n",
              "      <th>business_longitude</th>\n",
              "      <th>business_review_count</th>\n",
              "      <th>business_average_stars</th>\n",
              "      <th>business_state</th>\n",
              "      <th>is_good_rating</th>\n",
              "      <th>bizcategory1</th>\n",
              "      <th>bizcategory2</th>\n",
              "      <th>top2categories</th>\n",
              "      <th>business_region</th>\n",
              "      <th>user_days_on_yelp</th>\n",
              "      <th>user_reviews_per_day</th>\n",
              "      <th>user_times_elite</th>\n",
              "      <th>authored_by_elite_user</th>\n",
              "      <th>user_business_avg_star_difference</th>\n",
              "      <th>business_total_stars</th>\n",
              "    </tr>\n",
              "  </thead>\n",
              "  <tbody>\n",
              "    <tr>\n",
              "      <th>0</th>\n",
              "      <td>9uu-JXdQuQ3rXOd1Vxv8kA</td>\n",
              "      <td>8zN3nV0zbtE377_XhlvabA</td>\n",
              "      <td>MWahC54Rd_CNv_0VtjCD6A</td>\n",
              "      <td>2017-06-27</td>\n",
              "      <td>0</td>\n",
              "      <td>0</td>\n",
              "      <td>0</td>\n",
              "      <td>Pool tables, darts, and other neighborhood bar...</td>\n",
              "      <td>2.00</td>\n",
              "      <td>None</td>\n",
              "      <td>5</td>\n",
              "      <td>2013-10-23</td>\n",
              "      <td>Restaurants, Sports Bars, Bars, American (Trad...</td>\n",
              "      <td>Chandler</td>\n",
              "      <td>33.336050</td>\n",
              "      <td>-111.844343</td>\n",
              "      <td>158</td>\n",
              "      <td>4.0</td>\n",
              "      <td>AZ</td>\n",
              "      <td>0</td>\n",
              "      <td>Restaurants</td>\n",
              "      <td>Sports Bars</td>\n",
              "      <td>Restaurants Sports Bars</td>\n",
              "      <td>South West</td>\n",
              "      <td>2170</td>\n",
              "      <td>0.002304</td>\n",
              "      <td>0</td>\n",
              "      <td>0</td>\n",
              "      <td>-2.00</td>\n",
              "      <td>632.0</td>\n",
              "    </tr>\n",
              "    <tr>\n",
              "      <th>1</th>\n",
              "      <td>UbCgugoTK2MfBmtU_8PXaQ</td>\n",
              "      <td>wJ-PcjemwR44WitIJsDzsA</td>\n",
              "      <td>N-GOto4b3ltfGJ7y-5g-pg</td>\n",
              "      <td>2017-03-25</td>\n",
              "      <td>0</td>\n",
              "      <td>0</td>\n",
              "      <td>0</td>\n",
              "      <td>This place was alright. However, their classic...</td>\n",
              "      <td>4.43</td>\n",
              "      <td>None</td>\n",
              "      <td>7</td>\n",
              "      <td>2016-07-04</td>\n",
              "      <td>Beauty &amp; Spas, Nail Salons</td>\n",
              "      <td>Fort Mill</td>\n",
              "      <td>35.058040</td>\n",
              "      <td>-80.937064</td>\n",
              "      <td>26</td>\n",
              "      <td>3.5</td>\n",
              "      <td>SC</td>\n",
              "      <td>0</td>\n",
              "      <td>Beauty &amp; Spas</td>\n",
              "      <td>Nail Salons</td>\n",
              "      <td>Beauty &amp; Spas Nail Salons</td>\n",
              "      <td>South East</td>\n",
              "      <td>1185</td>\n",
              "      <td>0.005907</td>\n",
              "      <td>0</td>\n",
              "      <td>0</td>\n",
              "      <td>0.93</td>\n",
              "      <td>91.0</td>\n",
              "    </tr>\n",
              "    <tr>\n",
              "      <th>2</th>\n",
              "      <td>6oF9_NR1O5Y_NOE6INXfrg</td>\n",
              "      <td>fP4sMlVw_MvyGNv4xeTGDA</td>\n",
              "      <td>RH3w77UyXaQPiOx2jOE7zg</td>\n",
              "      <td>2017-07-14</td>\n",
              "      <td>0</td>\n",
              "      <td>0</td>\n",
              "      <td>0</td>\n",
              "      <td>First time at Pieology Pizzeria and I was impr...</td>\n",
              "      <td>4.09</td>\n",
              "      <td>None</td>\n",
              "      <td>21</td>\n",
              "      <td>2013-09-05</td>\n",
              "      <td>Pizza, Restaurants</td>\n",
              "      <td>Las Vegas</td>\n",
              "      <td>36.114884</td>\n",
              "      <td>-115.155604</td>\n",
              "      <td>189</td>\n",
              "      <td>4.0</td>\n",
              "      <td>NV</td>\n",
              "      <td>1</td>\n",
              "      <td>Pizza</td>\n",
              "      <td>Restaurants</td>\n",
              "      <td>Pizza Restaurants</td>\n",
              "      <td>South West</td>\n",
              "      <td>2218</td>\n",
              "      <td>0.009468</td>\n",
              "      <td>0</td>\n",
              "      <td>0</td>\n",
              "      <td>0.09</td>\n",
              "      <td>756.0</td>\n",
              "    </tr>\n",
              "    <tr>\n",
              "      <th>3</th>\n",
              "      <td>kyYWrcrr83GnJ7m_VEvwCA</td>\n",
              "      <td>hgWMxKhrnOUd3m5nOUBIkA</td>\n",
              "      <td>g6pwf1E-CylnZQRoaZGGdw</td>\n",
              "      <td>2010-12-13</td>\n",
              "      <td>1</td>\n",
              "      <td>0</td>\n",
              "      <td>0</td>\n",
              "      <td>Its a good facility with lots of equipment and...</td>\n",
              "      <td>3.55</td>\n",
              "      <td>2013, 2012</td>\n",
              "      <td>83</td>\n",
              "      <td>2010-09-03</td>\n",
              "      <td>Active Life, Fitness &amp; Instruction, Trainers, ...</td>\n",
              "      <td>Las Vegas</td>\n",
              "      <td>36.025332</td>\n",
              "      <td>-115.120852</td>\n",
              "      <td>316</td>\n",
              "      <td>3.0</td>\n",
              "      <td>NV</td>\n",
              "      <td>0</td>\n",
              "      <td>Active Life</td>\n",
              "      <td>Fitness &amp; Instruction</td>\n",
              "      <td>Active Life Fitness &amp; Instruction</td>\n",
              "      <td>South West</td>\n",
              "      <td>3316</td>\n",
              "      <td>0.025030</td>\n",
              "      <td>2</td>\n",
              "      <td>0</td>\n",
              "      <td>0.55</td>\n",
              "      <td>948.0</td>\n",
              "    </tr>\n",
              "    <tr>\n",
              "      <th>4</th>\n",
              "      <td>K2X3XG9_M3EM0TWguo2bCw</td>\n",
              "      <td>KMKPusWbBaIORB669W0EeQ</td>\n",
              "      <td>14nl002my6qLaEcqYHLPig</td>\n",
              "      <td>2016-09-12</td>\n",
              "      <td>1</td>\n",
              "      <td>1</td>\n",
              "      <td>1</td>\n",
              "      <td>Very very disappointed! My shawarma chicken wa...</td>\n",
              "      <td>3.75</td>\n",
              "      <td>None</td>\n",
              "      <td>28</td>\n",
              "      <td>2016-03-24</td>\n",
              "      <td>Mediterranean, Restaurants</td>\n",
              "      <td>Henderson</td>\n",
              "      <td>36.005901</td>\n",
              "      <td>-115.111863</td>\n",
              "      <td>61</td>\n",
              "      <td>3.5</td>\n",
              "      <td>NV</td>\n",
              "      <td>0</td>\n",
              "      <td>Mediterranean</td>\n",
              "      <td>Restaurants</td>\n",
              "      <td>Mediterranean Restaurants</td>\n",
              "      <td>South West</td>\n",
              "      <td>1287</td>\n",
              "      <td>0.021756</td>\n",
              "      <td>0</td>\n",
              "      <td>0</td>\n",
              "      <td>0.25</td>\n",
              "      <td>213.5</td>\n",
              "    </tr>\n",
              "  </tbody>\n",
              "</table>\n",
              "</div>"
            ],
            "text/plain": [
              "                review_id  ... business_total_stars\n",
              "0  9uu-JXdQuQ3rXOd1Vxv8kA  ...                632.0\n",
              "1  UbCgugoTK2MfBmtU_8PXaQ  ...                 91.0\n",
              "2  6oF9_NR1O5Y_NOE6INXfrg  ...                756.0\n",
              "3  kyYWrcrr83GnJ7m_VEvwCA  ...                948.0\n",
              "4  K2X3XG9_M3EM0TWguo2bCw  ...                213.5\n",
              "\n",
              "[5 rows x 30 columns]"
            ]
          },
          "metadata": {
            "tags": []
          },
          "execution_count": 80
        }
      ]
    },
    {
      "cell_type": "code",
      "metadata": {
        "id": "qimWOAE0vnHD",
        "colab_type": "code",
        "colab": {}
      },
      "source": [
        "good_reviews = train[train.is_good_rating==1]\n",
        "bad_reviews = train[train.is_good_rating==0]"
      ],
      "execution_count": 0,
      "outputs": []
    },
    {
      "cell_type": "code",
      "metadata": {
        "id": "MZf8Y-dKv1jx",
        "colab_type": "code",
        "outputId": "99563b1a-71db-4314-9c14-ca9be105952d",
        "colab": {
          "base_uri": "https://localhost:8080/",
          "height": 337
        }
      },
      "source": [
        "good_reviews.describe()"
      ],
      "execution_count": 0,
      "outputs": [
        {
          "output_type": "execute_result",
          "data": {
            "text/html": [
              "<div>\n",
              "<style scoped>\n",
              "    .dataframe tbody tr th:only-of-type {\n",
              "        vertical-align: middle;\n",
              "    }\n",
              "\n",
              "    .dataframe tbody tr th {\n",
              "        vertical-align: top;\n",
              "    }\n",
              "\n",
              "    .dataframe thead th {\n",
              "        text-align: right;\n",
              "    }\n",
              "</style>\n",
              "<table border=\"1\" class=\"dataframe\">\n",
              "  <thead>\n",
              "    <tr style=\"text-align: right;\">\n",
              "      <th></th>\n",
              "      <th>cool</th>\n",
              "      <th>funny</th>\n",
              "      <th>useful</th>\n",
              "      <th>user_average_stars</th>\n",
              "      <th>user_review_count</th>\n",
              "      <th>business_latitude</th>\n",
              "      <th>business_longitude</th>\n",
              "      <th>business_review_count</th>\n",
              "      <th>business_average_stars</th>\n",
              "      <th>is_good_rating</th>\n",
              "      <th>user_days_on_yelp</th>\n",
              "      <th>user_reviews_per_day</th>\n",
              "      <th>user_times_elite</th>\n",
              "      <th>authored_by_elite_user</th>\n",
              "      <th>user_business_avg_star_difference</th>\n",
              "      <th>business_total_stars</th>\n",
              "    </tr>\n",
              "  </thead>\n",
              "  <tbody>\n",
              "    <tr>\n",
              "      <th>count</th>\n",
              "      <td>159858.000000</td>\n",
              "      <td>159858.000000</td>\n",
              "      <td>159858.000000</td>\n",
              "      <td>159858.000000</td>\n",
              "      <td>159858.000000</td>\n",
              "      <td>159857.000000</td>\n",
              "      <td>159857.000000</td>\n",
              "      <td>159858.000000</td>\n",
              "      <td>159858.000000</td>\n",
              "      <td>159858.0</td>\n",
              "      <td>159858.000000</td>\n",
              "      <td>159858.000000</td>\n",
              "      <td>159858.000000</td>\n",
              "      <td>159858.000000</td>\n",
              "      <td>159858.000000</td>\n",
              "      <td>159858.000000</td>\n",
              "    </tr>\n",
              "    <tr>\n",
              "      <th>mean</th>\n",
              "      <td>0.613132</td>\n",
              "      <td>0.382258</td>\n",
              "      <td>1.134976</td>\n",
              "      <td>4.010405</td>\n",
              "      <td>109.536376</td>\n",
              "      <td>37.179890</td>\n",
              "      <td>-101.340383</td>\n",
              "      <td>355.556769</td>\n",
              "      <td>3.965297</td>\n",
              "      <td>1.0</td>\n",
              "      <td>2551.343461</td>\n",
              "      <td>0.036132</td>\n",
              "      <td>0.949242</td>\n",
              "      <td>0.195711</td>\n",
              "      <td>0.045107</td>\n",
              "      <td>1402.061029</td>\n",
              "    </tr>\n",
              "    <tr>\n",
              "      <th>std</th>\n",
              "      <td>2.897990</td>\n",
              "      <td>2.624454</td>\n",
              "      <td>3.363687</td>\n",
              "      <td>0.600613</td>\n",
              "      <td>238.983321</td>\n",
              "      <td>4.299659</td>\n",
              "      <td>20.561943</td>\n",
              "      <td>731.811817</td>\n",
              "      <td>0.615731</td>\n",
              "      <td>0.0</td>\n",
              "      <td>944.303676</td>\n",
              "      <td>0.068689</td>\n",
              "      <td>2.047782</td>\n",
              "      <td>0.396748</td>\n",
              "      <td>0.813381</td>\n",
              "      <td>2882.916704</td>\n",
              "    </tr>\n",
              "    <tr>\n",
              "      <th>min</th>\n",
              "      <td>0.000000</td>\n",
              "      <td>0.000000</td>\n",
              "      <td>0.000000</td>\n",
              "      <td>1.320000</td>\n",
              "      <td>0.000000</td>\n",
              "      <td>-36.086009</td>\n",
              "      <td>-122.499387</td>\n",
              "      <td>3.000000</td>\n",
              "      <td>1.000000</td>\n",
              "      <td>1.0</td>\n",
              "      <td>660.000000</td>\n",
              "      <td>0.000000</td>\n",
              "      <td>0.000000</td>\n",
              "      <td>0.000000</td>\n",
              "      <td>-3.680000</td>\n",
              "      <td>6.000000</td>\n",
              "    </tr>\n",
              "    <tr>\n",
              "      <th>25%</th>\n",
              "      <td>0.000000</td>\n",
              "      <td>0.000000</td>\n",
              "      <td>0.000000</td>\n",
              "      <td>3.650000</td>\n",
              "      <td>7.000000</td>\n",
              "      <td>33.587501</td>\n",
              "      <td>-115.154036</td>\n",
              "      <td>35.000000</td>\n",
              "      <td>3.500000</td>\n",
              "      <td>1.0</td>\n",
              "      <td>1830.000000</td>\n",
              "      <td>0.003410</td>\n",
              "      <td>0.000000</td>\n",
              "      <td>0.000000</td>\n",
              "      <td>-0.470000</td>\n",
              "      <td>136.000000</td>\n",
              "    </tr>\n",
              "    <tr>\n",
              "      <th>50%</th>\n",
              "      <td>0.000000</td>\n",
              "      <td>0.000000</td>\n",
              "      <td>0.000000</td>\n",
              "      <td>4.000000</td>\n",
              "      <td>24.000000</td>\n",
              "      <td>36.102251</td>\n",
              "      <td>-111.973506</td>\n",
              "      <td>117.000000</td>\n",
              "      <td>4.000000</td>\n",
              "      <td>1.0</td>\n",
              "      <td>2549.000000</td>\n",
              "      <td>0.010157</td>\n",
              "      <td>0.000000</td>\n",
              "      <td>0.000000</td>\n",
              "      <td>0.000000</td>\n",
              "      <td>452.000000</td>\n",
              "    </tr>\n",
              "    <tr>\n",
              "      <th>75%</th>\n",
              "      <td>1.000000</td>\n",
              "      <td>0.000000</td>\n",
              "      <td>1.000000</td>\n",
              "      <td>4.410000</td>\n",
              "      <td>100.000000</td>\n",
              "      <td>40.436993</td>\n",
              "      <td>-81.005802</td>\n",
              "      <td>342.000000</td>\n",
              "      <td>4.500000</td>\n",
              "      <td>1.0</td>\n",
              "      <td>3228.000000</td>\n",
              "      <td>0.036797</td>\n",
              "      <td>0.000000</td>\n",
              "      <td>0.000000</td>\n",
              "      <td>0.500000</td>\n",
              "      <td>1352.000000</td>\n",
              "    </tr>\n",
              "    <tr>\n",
              "      <th>max</th>\n",
              "      <td>234.000000</td>\n",
              "      <td>589.000000</td>\n",
              "      <td>246.000000</td>\n",
              "      <td>5.000000</td>\n",
              "      <td>3468.000000</td>\n",
              "      <td>59.438181</td>\n",
              "      <td>115.086769</td>\n",
              "      <td>7361.000000</td>\n",
              "      <td>5.000000</td>\n",
              "      <td>1.0</td>\n",
              "      <td>5468.000000</td>\n",
              "      <td>0.942135</td>\n",
              "      <td>12.000000</td>\n",
              "      <td>1.000000</td>\n",
              "      <td>4.000000</td>\n",
              "      <td>29444.000000</td>\n",
              "    </tr>\n",
              "  </tbody>\n",
              "</table>\n",
              "</div>"
            ],
            "text/plain": [
              "                cool  ...  business_total_stars\n",
              "count  159858.000000  ...         159858.000000\n",
              "mean        0.613132  ...           1402.061029\n",
              "std         2.897990  ...           2882.916704\n",
              "min         0.000000  ...              6.000000\n",
              "25%         0.000000  ...            136.000000\n",
              "50%         0.000000  ...            452.000000\n",
              "75%         1.000000  ...           1352.000000\n",
              "max       234.000000  ...          29444.000000\n",
              "\n",
              "[8 rows x 16 columns]"
            ]
          },
          "metadata": {
            "tags": []
          },
          "execution_count": 82
        }
      ]
    },
    {
      "cell_type": "code",
      "metadata": {
        "id": "aNZq8aq6v4gw",
        "colab_type": "code",
        "outputId": "4d6ef781-0a40-4bf0-da32-f5c9cc336c5a",
        "colab": {
          "base_uri": "https://localhost:8080/",
          "height": 337
        }
      },
      "source": [
        "bad_reviews.describe()"
      ],
      "execution_count": 0,
      "outputs": [
        {
          "output_type": "execute_result",
          "data": {
            "text/html": [
              "<div>\n",
              "<style scoped>\n",
              "    .dataframe tbody tr th:only-of-type {\n",
              "        vertical-align: middle;\n",
              "    }\n",
              "\n",
              "    .dataframe tbody tr th {\n",
              "        vertical-align: top;\n",
              "    }\n",
              "\n",
              "    .dataframe thead th {\n",
              "        text-align: right;\n",
              "    }\n",
              "</style>\n",
              "<table border=\"1\" class=\"dataframe\">\n",
              "  <thead>\n",
              "    <tr style=\"text-align: right;\">\n",
              "      <th></th>\n",
              "      <th>cool</th>\n",
              "      <th>funny</th>\n",
              "      <th>useful</th>\n",
              "      <th>user_average_stars</th>\n",
              "      <th>user_review_count</th>\n",
              "      <th>business_latitude</th>\n",
              "      <th>business_longitude</th>\n",
              "      <th>business_review_count</th>\n",
              "      <th>business_average_stars</th>\n",
              "      <th>is_good_rating</th>\n",
              "      <th>user_days_on_yelp</th>\n",
              "      <th>user_reviews_per_day</th>\n",
              "      <th>user_times_elite</th>\n",
              "      <th>authored_by_elite_user</th>\n",
              "      <th>user_business_avg_star_difference</th>\n",
              "      <th>business_total_stars</th>\n",
              "    </tr>\n",
              "  </thead>\n",
              "  <tbody>\n",
              "    <tr>\n",
              "      <th>count</th>\n",
              "      <td>80142.000000</td>\n",
              "      <td>80142.000000</td>\n",
              "      <td>80142.000000</td>\n",
              "      <td>80142.000000</td>\n",
              "      <td>80142.000000</td>\n",
              "      <td>80141.000000</td>\n",
              "      <td>80141.000000</td>\n",
              "      <td>80142.000000</td>\n",
              "      <td>80142.000000</td>\n",
              "      <td>80142.0</td>\n",
              "      <td>80142.000000</td>\n",
              "      <td>80142.000000</td>\n",
              "      <td>80142.000000</td>\n",
              "      <td>80142.000000</td>\n",
              "      <td>80142.000000</td>\n",
              "      <td>80142.000000</td>\n",
              "    </tr>\n",
              "    <tr>\n",
              "      <th>mean</th>\n",
              "      <td>0.407377</td>\n",
              "      <td>0.624379</td>\n",
              "      <td>1.724165</td>\n",
              "      <td>3.232444</td>\n",
              "      <td>111.041888</td>\n",
              "      <td>37.410215</td>\n",
              "      <td>-100.538578</td>\n",
              "      <td>332.931210</td>\n",
              "      <td>3.288525</td>\n",
              "      <td>0.0</td>\n",
              "      <td>2564.837713</td>\n",
              "      <td>0.036346</td>\n",
              "      <td>0.920004</td>\n",
              "      <td>0.182701</td>\n",
              "      <td>-0.056081</td>\n",
              "      <td>1175.240885</td>\n",
              "    </tr>\n",
              "    <tr>\n",
              "      <th>std</th>\n",
              "      <td>3.023209</td>\n",
              "      <td>3.473608</td>\n",
              "      <td>8.507285</td>\n",
              "      <td>0.875075</td>\n",
              "      <td>243.161836</td>\n",
              "      <td>4.308290</td>\n",
              "      <td>20.339136</td>\n",
              "      <td>718.892901</td>\n",
              "      <td>0.764510</td>\n",
              "      <td>0.0</td>\n",
              "      <td>946.959650</td>\n",
              "      <td>0.070238</td>\n",
              "      <td>2.021163</td>\n",
              "      <td>0.386423</td>\n",
              "      <td>1.084344</td>\n",
              "      <td>2642.907697</td>\n",
              "    </tr>\n",
              "    <tr>\n",
              "      <th>min</th>\n",
              "      <td>0.000000</td>\n",
              "      <td>0.000000</td>\n",
              "      <td>0.000000</td>\n",
              "      <td>1.000000</td>\n",
              "      <td>0.000000</td>\n",
              "      <td>-34.510780</td>\n",
              "      <td>-122.499387</td>\n",
              "      <td>3.000000</td>\n",
              "      <td>1.000000</td>\n",
              "      <td>0.0</td>\n",
              "      <td>660.000000</td>\n",
              "      <td>0.000000</td>\n",
              "      <td>0.000000</td>\n",
              "      <td>0.000000</td>\n",
              "      <td>-4.000000</td>\n",
              "      <td>3.000000</td>\n",
              "    </tr>\n",
              "    <tr>\n",
              "      <th>25%</th>\n",
              "      <td>0.000000</td>\n",
              "      <td>0.000000</td>\n",
              "      <td>0.000000</td>\n",
              "      <td>2.930000</td>\n",
              "      <td>7.000000</td>\n",
              "      <td>33.626688</td>\n",
              "      <td>-115.154480</td>\n",
              "      <td>30.000000</td>\n",
              "      <td>3.000000</td>\n",
              "      <td>0.0</td>\n",
              "      <td>1844.000000</td>\n",
              "      <td>0.003194</td>\n",
              "      <td>0.000000</td>\n",
              "      <td>0.000000</td>\n",
              "      <td>-0.660000</td>\n",
              "      <td>90.000000</td>\n",
              "    </tr>\n",
              "    <tr>\n",
              "      <th>50%</th>\n",
              "      <td>0.000000</td>\n",
              "      <td>0.000000</td>\n",
              "      <td>1.000000</td>\n",
              "      <td>3.490000</td>\n",
              "      <td>23.000000</td>\n",
              "      <td>36.109538</td>\n",
              "      <td>-111.950366</td>\n",
              "      <td>96.000000</td>\n",
              "      <td>3.500000</td>\n",
              "      <td>0.0</td>\n",
              "      <td>2565.000000</td>\n",
              "      <td>0.009899</td>\n",
              "      <td>0.000000</td>\n",
              "      <td>0.000000</td>\n",
              "      <td>0.000000</td>\n",
              "      <td>315.000000</td>\n",
              "    </tr>\n",
              "    <tr>\n",
              "      <th>75%</th>\n",
              "      <td>0.000000</td>\n",
              "      <td>1.000000</td>\n",
              "      <td>2.000000</td>\n",
              "      <td>3.820000</td>\n",
              "      <td>103.000000</td>\n",
              "      <td>40.583216</td>\n",
              "      <td>-80.845023</td>\n",
              "      <td>290.000000</td>\n",
              "      <td>4.000000</td>\n",
              "      <td>0.0</td>\n",
              "      <td>3242.000000</td>\n",
              "      <td>0.037444</td>\n",
              "      <td>0.000000</td>\n",
              "      <td>0.000000</td>\n",
              "      <td>0.630000</td>\n",
              "      <td>1012.000000</td>\n",
              "    </tr>\n",
              "    <tr>\n",
              "      <th>max</th>\n",
              "      <td>245.000000</td>\n",
              "      <td>447.000000</td>\n",
              "      <td>1456.000000</td>\n",
              "      <td>4.940000</td>\n",
              "      <td>3468.000000</td>\n",
              "      <td>59.436505</td>\n",
              "      <td>115.086769</td>\n",
              "      <td>7361.000000</td>\n",
              "      <td>5.000000</td>\n",
              "      <td>0.0</td>\n",
              "      <td>5468.000000</td>\n",
              "      <td>0.942135</td>\n",
              "      <td>12.000000</td>\n",
              "      <td>1.000000</td>\n",
              "      <td>3.800000</td>\n",
              "      <td>29444.000000</td>\n",
              "    </tr>\n",
              "  </tbody>\n",
              "</table>\n",
              "</div>"
            ],
            "text/plain": [
              "               cool  ...  business_total_stars\n",
              "count  80142.000000  ...          80142.000000\n",
              "mean       0.407377  ...           1175.240885\n",
              "std        3.023209  ...           2642.907697\n",
              "min        0.000000  ...              3.000000\n",
              "25%        0.000000  ...             90.000000\n",
              "50%        0.000000  ...            315.000000\n",
              "75%        0.000000  ...           1012.000000\n",
              "max      245.000000  ...          29444.000000\n",
              "\n",
              "[8 rows x 16 columns]"
            ]
          },
          "metadata": {
            "tags": []
          },
          "execution_count": 83
        }
      ]
    },
    {
      "cell_type": "code",
      "metadata": {
        "id": "nac-wK1zwKx5",
        "colab_type": "code",
        "colab": {}
      },
      "source": [
        "# overall observations:\n",
        "\n",
        "# - there are over 11000 unique values in top2categories \n",
        "# - bizcategory1 and bizcategory2 values are informative, but also have ~1000 unique values each\n",
        "# - business_region, business_state are too noisy to use\n",
        "\n",
        "# good and bad reviews don't really differ much based on: \n",
        "# - time on yelp or reviews per day\n",
        "# - number of times author was elite\n",
        "\n",
        "\n",
        "\n",
        "# good and bad reviews are different in that:\n",
        "# - good reviews tend to come from elite users (in the years the users are elite)\n",
        "# - bad reviews tend to have a negative user to business star difference (users visit restaurants that have a higher rating than what the users themselves typically give)\n",
        "# - useful >>> negative, cool > positive, funny > negative\n",
        "# - users giving negative reviews tend to have lower user_average_stars (typically more critical)"
      ],
      "execution_count": 0,
      "outputs": []
    },
    {
      "cell_type": "code",
      "metadata": {
        "id": "1FKKLnm-x8oD",
        "colab_type": "code",
        "colab": {}
      },
      "source": [
        "# trying it out with no text features, just user/business/voting features\n",
        "def featurize_no_text(df):\n",
        "  df['authored_by_elite_user'] = [1 if x in y else 0 for x,y in zip(pd.to_datetime(df.date).dt.strftime('%Y'), df.user_elite)]\n",
        "  df['user_business_avg_star_difference'] = df.user_average_stars-df.business_average_stars\n",
        "  return df[['authored_by_elite_user', 'useful', 'cool', 'funny', 'user_average_stars', 'user_business_avg_star_difference', 'business_average_stars']]\n",
        "\n",
        "train_data = pd.read_csv(folder_path+'yelp_train.csv')\n",
        "no_text_train = featurize_no_text(train_data)\n",
        "no_text_train_y = train_data['is_good_rating']\n",
        "no_text_test = featurize_no_text(pd.read_csv(folder_path+'yelp_test.csv'))"
      ],
      "execution_count": 0,
      "outputs": []
    },
    {
      "cell_type": "code",
      "metadata": {
        "id": "h4PURNVr4HhN",
        "colab_type": "code",
        "outputId": "240e33cf-73de-4d92-eab8-2b9664e82335",
        "colab": {
          "base_uri": "https://localhost:8080/",
          "height": 204
        }
      },
      "source": [
        "sample.head()"
      ],
      "execution_count": 0,
      "outputs": [
        {
          "output_type": "execute_result",
          "data": {
            "text/html": [
              "<div>\n",
              "<style scoped>\n",
              "    .dataframe tbody tr th:only-of-type {\n",
              "        vertical-align: middle;\n",
              "    }\n",
              "\n",
              "    .dataframe tbody tr th {\n",
              "        vertical-align: top;\n",
              "    }\n",
              "\n",
              "    .dataframe thead th {\n",
              "        text-align: right;\n",
              "    }\n",
              "</style>\n",
              "<table border=\"1\" class=\"dataframe\">\n",
              "  <thead>\n",
              "    <tr style=\"text-align: right;\">\n",
              "      <th></th>\n",
              "      <th>review_id</th>\n",
              "      <th>is_good_rating</th>\n",
              "    </tr>\n",
              "  </thead>\n",
              "  <tbody>\n",
              "    <tr>\n",
              "      <th>0</th>\n",
              "      <td>SiQGQ__poSeG1oKHVem30g</td>\n",
              "      <td>1</td>\n",
              "    </tr>\n",
              "    <tr>\n",
              "      <th>1</th>\n",
              "      <td>rFZPxXnZZuEfO5Cj8SprGw</td>\n",
              "      <td>1</td>\n",
              "    </tr>\n",
              "    <tr>\n",
              "      <th>2</th>\n",
              "      <td>DU9CeH0kUfN8LO7V02fxaA</td>\n",
              "      <td>1</td>\n",
              "    </tr>\n",
              "    <tr>\n",
              "      <th>3</th>\n",
              "      <td>dJgLik5M3vvHYHDkIW62qA</td>\n",
              "      <td>1</td>\n",
              "    </tr>\n",
              "    <tr>\n",
              "      <th>4</th>\n",
              "      <td>fi9Pbb8Z4bzzlHaxXGEJTg</td>\n",
              "      <td>1</td>\n",
              "    </tr>\n",
              "  </tbody>\n",
              "</table>\n",
              "</div>"
            ],
            "text/plain": [
              "                review_id  is_good_rating\n",
              "0  SiQGQ__poSeG1oKHVem30g               1\n",
              "1  rFZPxXnZZuEfO5Cj8SprGw               1\n",
              "2  DU9CeH0kUfN8LO7V02fxaA               1\n",
              "3  dJgLik5M3vvHYHDkIW62qA               1\n",
              "4  fi9Pbb8Z4bzzlHaxXGEJTg               1"
            ]
          },
          "metadata": {
            "tags": []
          },
          "execution_count": 110
        }
      ]
    },
    {
      "cell_type": "code",
      "metadata": {
        "id": "MTkrDxSG4Pjz",
        "colab_type": "code",
        "outputId": "12d7d710-77e2-438c-b3d1-686c012bf1bd",
        "colab": {
          "base_uri": "https://localhost:8080/",
          "height": 567
        }
      },
      "source": [
        "test.head()"
      ],
      "execution_count": 0,
      "outputs": [
        {
          "output_type": "execute_result",
          "data": {
            "text/html": [
              "<div>\n",
              "<style scoped>\n",
              "    .dataframe tbody tr th:only-of-type {\n",
              "        vertical-align: middle;\n",
              "    }\n",
              "\n",
              "    .dataframe tbody tr th {\n",
              "        vertical-align: top;\n",
              "    }\n",
              "\n",
              "    .dataframe thead th {\n",
              "        text-align: right;\n",
              "    }\n",
              "</style>\n",
              "<table border=\"1\" class=\"dataframe\">\n",
              "  <thead>\n",
              "    <tr style=\"text-align: right;\">\n",
              "      <th></th>\n",
              "      <th>review_id</th>\n",
              "      <th>business_id</th>\n",
              "      <th>user_id</th>\n",
              "      <th>date</th>\n",
              "      <th>cool</th>\n",
              "      <th>funny</th>\n",
              "      <th>useful</th>\n",
              "      <th>text</th>\n",
              "      <th>user_average_stars</th>\n",
              "      <th>user_elite</th>\n",
              "      <th>user_review_count</th>\n",
              "      <th>user_yelping_since</th>\n",
              "      <th>business_categories</th>\n",
              "      <th>business_city</th>\n",
              "      <th>business_latitude</th>\n",
              "      <th>business_longitude</th>\n",
              "      <th>business_review_count</th>\n",
              "      <th>business_average_stars</th>\n",
              "      <th>business_state</th>\n",
              "    </tr>\n",
              "  </thead>\n",
              "  <tbody>\n",
              "    <tr>\n",
              "      <th>0</th>\n",
              "      <td>SiQGQ__poSeG1oKHVem30g</td>\n",
              "      <td>309bnXTHirKMU6wz1HwRjQ</td>\n",
              "      <td>oAil_gYOXUhqWnKA8SwKsw</td>\n",
              "      <td>2017-05-23</td>\n",
              "      <td>2</td>\n",
              "      <td>1</td>\n",
              "      <td>2</td>\n",
              "      <td>This was my first experience with Harry Buffal...</td>\n",
              "      <td>3.80</td>\n",
              "      <td>2015, 2017, 2014, 2016</td>\n",
              "      <td>369</td>\n",
              "      <td>2013-11-06</td>\n",
              "      <td>Restaurants, Nightlife, American (Traditional)...</td>\n",
              "      <td>Lakewood</td>\n",
              "      <td>41.481281</td>\n",
              "      <td>-81.827344</td>\n",
              "      <td>81</td>\n",
              "      <td>4.0</td>\n",
              "      <td>OH</td>\n",
              "    </tr>\n",
              "    <tr>\n",
              "      <th>1</th>\n",
              "      <td>rFZPxXnZZuEfO5Cj8SprGw</td>\n",
              "      <td>mhL4vCKi7oW1lVZXk3mTkw</td>\n",
              "      <td>YEgBQZ_UakfJa31NWLODvA</td>\n",
              "      <td>2011-04-16</td>\n",
              "      <td>1</td>\n",
              "      <td>0</td>\n",
              "      <td>2</td>\n",
              "      <td>I can't believe this place hasn't been reviewe...</td>\n",
              "      <td>3.80</td>\n",
              "      <td>2016, 2014, 2013, 2010, 2012, 2009, 2011, 2017...</td>\n",
              "      <td>483</td>\n",
              "      <td>2007-01-16</td>\n",
              "      <td>Women's Clothing, Home Decor, Home &amp; Garden, F...</td>\n",
              "      <td>Phoenix</td>\n",
              "      <td>33.457785</td>\n",
              "      <td>-112.066589</td>\n",
              "      <td>18</td>\n",
              "      <td>5.0</td>\n",
              "      <td>AZ</td>\n",
              "    </tr>\n",
              "    <tr>\n",
              "      <th>2</th>\n",
              "      <td>DU9CeH0kUfN8LO7V02fxaA</td>\n",
              "      <td>d2ZQRjuizstCTnicysmpMQ</td>\n",
              "      <td>0_TDbuQpN_11ui_zEhzb2A</td>\n",
              "      <td>2012-05-08</td>\n",
              "      <td>1</td>\n",
              "      <td>1</td>\n",
              "      <td>1</td>\n",
              "      <td>This is the best restaurant I've eaten at in t...</td>\n",
              "      <td>4.14</td>\n",
              "      <td>None</td>\n",
              "      <td>7</td>\n",
              "      <td>2011-10-20</td>\n",
              "      <td>Restaurants, American (New)</td>\n",
              "      <td>Pittsburgh</td>\n",
              "      <td>40.446002</td>\n",
              "      <td>-79.993500</td>\n",
              "      <td>572</td>\n",
              "      <td>4.0</td>\n",
              "      <td>PA</td>\n",
              "    </tr>\n",
              "    <tr>\n",
              "      <th>3</th>\n",
              "      <td>dJgLik5M3vvHYHDkIW62qA</td>\n",
              "      <td>JfC7ufsnkzAwNFfoIcAHNw</td>\n",
              "      <td>a9UymHuKxZKMnHXOo3nLKA</td>\n",
              "      <td>2016-05-30</td>\n",
              "      <td>1</td>\n",
              "      <td>1</td>\n",
              "      <td>2</td>\n",
              "      <td>From what I understand, this is the newest loc...</td>\n",
              "      <td>4.26</td>\n",
              "      <td>2017, 2016</td>\n",
              "      <td>131</td>\n",
              "      <td>2015-09-14</td>\n",
              "      <td>Spine Surgeons, Orthopedists, Health &amp; Medical...</td>\n",
              "      <td>Las Vegas</td>\n",
              "      <td>36.054773</td>\n",
              "      <td>-115.271030</td>\n",
              "      <td>33</td>\n",
              "      <td>4.0</td>\n",
              "      <td>NV</td>\n",
              "    </tr>\n",
              "    <tr>\n",
              "      <th>4</th>\n",
              "      <td>fi9Pbb8Z4bzzlHaxXGEJTg</td>\n",
              "      <td>yMopev-RPxfEXgqkJOvCGA</td>\n",
              "      <td>R_wlZO-jKFGEVJnSfWISqQ</td>\n",
              "      <td>2014-07-17</td>\n",
              "      <td>7</td>\n",
              "      <td>6</td>\n",
              "      <td>11</td>\n",
              "      <td>Ok, I love this place.  Is that what you want ...</td>\n",
              "      <td>3.83</td>\n",
              "      <td>2013, 2017, 2012, 2015, 2014, 2016</td>\n",
              "      <td>212</td>\n",
              "      <td>2011-07-01</td>\n",
              "      <td>Nightlife, Jazz &amp; Blues, Restaurants, Cajun/Cr...</td>\n",
              "      <td>Charlotte</td>\n",
              "      <td>35.214537</td>\n",
              "      <td>-80.821133</td>\n",
              "      <td>558</td>\n",
              "      <td>4.0</td>\n",
              "      <td>NC</td>\n",
              "    </tr>\n",
              "  </tbody>\n",
              "</table>\n",
              "</div>"
            ],
            "text/plain": [
              "                review_id  ... business_state\n",
              "0  SiQGQ__poSeG1oKHVem30g  ...             OH\n",
              "1  rFZPxXnZZuEfO5Cj8SprGw  ...             AZ\n",
              "2  DU9CeH0kUfN8LO7V02fxaA  ...             PA\n",
              "3  dJgLik5M3vvHYHDkIW62qA  ...             NV\n",
              "4  fi9Pbb8Z4bzzlHaxXGEJTg  ...             NC\n",
              "\n",
              "[5 rows x 19 columns]"
            ]
          },
          "metadata": {
            "tags": []
          },
          "execution_count": 111
        }
      ]
    },
    {
      "cell_type": "code",
      "metadata": {
        "id": "2WA-GJxD4S7s",
        "colab_type": "code",
        "outputId": "aa64073f-c7a9-44f9-ddcf-5fbecee57bab",
        "colab": {
          "base_uri": "https://localhost:8080/",
          "height": 34
        }
      },
      "source": [
        "from sklearn.neural_network import MLPClassifier\n",
        "clf = MLPClassifier(activation='logistic', solver='adam', learning_rate='adaptive', alpha=1e-4, hidden_layer_sizes=(100, 100), random_state=42) \n",
        "X = no_text_train\n",
        "y = no_text_train_y\n",
        "clf.fit(X, y)\n",
        "predictions = clf.predict(no_text_test)\n",
        "accuracy = np.mean(predictions==sample['is_good_rating'])\n",
        "print(accuracy)"
      ],
      "execution_count": 0,
      "outputs": [
        {
          "output_type": "stream",
          "text": [
            "0.7593666666666666\n"
          ],
          "name": "stdout"
        }
      ]
    },
    {
      "cell_type": "code",
      "metadata": {
        "id": "4zasIkol6J6D",
        "colab_type": "code",
        "outputId": "ac42c66f-249c-4945-8327-49c8628c0e5a",
        "colab": {
          "base_uri": "https://localhost:8080/",
          "height": 34
        }
      },
      "source": [
        "predictions"
      ],
      "execution_count": 0,
      "outputs": [
        {
          "output_type": "execute_result",
          "data": {
            "text/plain": [
              "array([0, 0, 0, ..., 0, 0, 0])"
            ]
          },
          "metadata": {
            "tags": []
          },
          "execution_count": 114
        }
      ]
    },
    {
      "cell_type": "code",
      "metadata": {
        "id": "KCOxU_Sz6j9u",
        "colab_type": "code",
        "outputId": "0d4f46ba-2d9e-4359-f899-67b9a6b264e9",
        "colab": {
          "base_uri": "https://localhost:8080/",
          "height": 204
        }
      },
      "source": [
        "X.head()"
      ],
      "execution_count": 0,
      "outputs": [
        {
          "output_type": "execute_result",
          "data": {
            "text/html": [
              "<div>\n",
              "<style scoped>\n",
              "    .dataframe tbody tr th:only-of-type {\n",
              "        vertical-align: middle;\n",
              "    }\n",
              "\n",
              "    .dataframe tbody tr th {\n",
              "        vertical-align: top;\n",
              "    }\n",
              "\n",
              "    .dataframe thead th {\n",
              "        text-align: right;\n",
              "    }\n",
              "</style>\n",
              "<table border=\"1\" class=\"dataframe\">\n",
              "  <thead>\n",
              "    <tr style=\"text-align: right;\">\n",
              "      <th></th>\n",
              "      <th>authored_by_elite_user</th>\n",
              "      <th>useful</th>\n",
              "      <th>cool</th>\n",
              "      <th>funny</th>\n",
              "      <th>user_average_stars</th>\n",
              "      <th>user_business_avg_star_difference</th>\n",
              "      <th>business_average_stars</th>\n",
              "    </tr>\n",
              "  </thead>\n",
              "  <tbody>\n",
              "    <tr>\n",
              "      <th>0</th>\n",
              "      <td>0</td>\n",
              "      <td>0</td>\n",
              "      <td>0</td>\n",
              "      <td>0</td>\n",
              "      <td>2.00</td>\n",
              "      <td>-2.00</td>\n",
              "      <td>4.0</td>\n",
              "    </tr>\n",
              "    <tr>\n",
              "      <th>1</th>\n",
              "      <td>0</td>\n",
              "      <td>0</td>\n",
              "      <td>0</td>\n",
              "      <td>0</td>\n",
              "      <td>4.43</td>\n",
              "      <td>0.93</td>\n",
              "      <td>3.5</td>\n",
              "    </tr>\n",
              "    <tr>\n",
              "      <th>2</th>\n",
              "      <td>0</td>\n",
              "      <td>0</td>\n",
              "      <td>0</td>\n",
              "      <td>0</td>\n",
              "      <td>4.09</td>\n",
              "      <td>0.09</td>\n",
              "      <td>4.0</td>\n",
              "    </tr>\n",
              "    <tr>\n",
              "      <th>3</th>\n",
              "      <td>0</td>\n",
              "      <td>0</td>\n",
              "      <td>1</td>\n",
              "      <td>0</td>\n",
              "      <td>3.55</td>\n",
              "      <td>0.55</td>\n",
              "      <td>3.0</td>\n",
              "    </tr>\n",
              "    <tr>\n",
              "      <th>4</th>\n",
              "      <td>0</td>\n",
              "      <td>1</td>\n",
              "      <td>1</td>\n",
              "      <td>1</td>\n",
              "      <td>3.75</td>\n",
              "      <td>0.25</td>\n",
              "      <td>3.5</td>\n",
              "    </tr>\n",
              "  </tbody>\n",
              "</table>\n",
              "</div>"
            ],
            "text/plain": [
              "   authored_by_elite_user  ...  business_average_stars\n",
              "0                       0  ...                     4.0\n",
              "1                       0  ...                     3.5\n",
              "2                       0  ...                     4.0\n",
              "3                       0  ...                     3.0\n",
              "4                       0  ...                     3.5\n",
              "\n",
              "[5 rows x 7 columns]"
            ]
          },
          "metadata": {
            "tags": []
          },
          "execution_count": 115
        }
      ]
    },
    {
      "cell_type": "code",
      "metadata": {
        "id": "_fHG4UZi6oXt",
        "colab_type": "code",
        "outputId": "a774375b-ce0f-49be-a4a9-9fe72014a5ac",
        "colab": {
          "base_uri": "https://localhost:8080/",
          "height": 119
        }
      },
      "source": [
        "y.head()"
      ],
      "execution_count": 0,
      "outputs": [
        {
          "output_type": "execute_result",
          "data": {
            "text/plain": [
              "0    0\n",
              "1    0\n",
              "2    1\n",
              "3    0\n",
              "4    0\n",
              "Name: is_good_rating, dtype: int64"
            ]
          },
          "metadata": {
            "tags": []
          },
          "execution_count": 116
        }
      ]
    },
    {
      "cell_type": "code",
      "metadata": {
        "id": "4Brs43zo6vZ0",
        "colab_type": "code",
        "outputId": "a88f4620-ebab-4b67-fe6b-ea656ae0c739",
        "colab": {
          "base_uri": "https://localhost:8080/",
          "height": 267
        }
      },
      "source": [
        "preds = pd.read_csv(folder_path+'yelp_sample.csv')\n",
        "print(preds.head())\n",
        "preds.is_good_rating = predictions\n",
        "preds.set_index('review_id', inplace=True)\n",
        "print(preds.head())\n",
        "preds.to_csv('preds.csv')\n",
        "!cp preds.csv /content/gdrive/My\\ Drive/Cal/Data\\ 144\\ Kaggle\\ Challenge"
      ],
      "execution_count": 0,
      "outputs": [
        {
          "output_type": "stream",
          "text": [
            "                review_id  is_good_rating\n",
            "0  SiQGQ__poSeG1oKHVem30g               1\n",
            "1  rFZPxXnZZuEfO5Cj8SprGw               1\n",
            "2  DU9CeH0kUfN8LO7V02fxaA               1\n",
            "3  dJgLik5M3vvHYHDkIW62qA               1\n",
            "4  fi9Pbb8Z4bzzlHaxXGEJTg               1\n",
            "                        is_good_rating\n",
            "review_id                             \n",
            "SiQGQ__poSeG1oKHVem30g               1\n",
            "rFZPxXnZZuEfO5Cj8SprGw               1\n",
            "DU9CeH0kUfN8LO7V02fxaA               1\n",
            "dJgLik5M3vvHYHDkIW62qA               1\n",
            "fi9Pbb8Z4bzzlHaxXGEJTg               1\n"
          ],
          "name": "stdout"
        }
      ]
    },
    {
      "cell_type": "code",
      "metadata": {
        "id": "biDPEKAg-c98",
        "colab_type": "code",
        "colab": {}
      },
      "source": [
        ""
      ],
      "execution_count": 0,
      "outputs": []
    }
  ]
}